{
 "cells": [
  {
   "cell_type": "code",
   "execution_count": 5,
   "id": "580a55b1-3e08-4d00-bfa2-afe827e09d72",
   "metadata": {},
   "outputs": [],
   "source": [
    "from whatlies import EmbeddingSet\n",
    "from whatlies.language import SpacyLanguage\n",
    "from whatlies.transformers import Pca, Umap"
   ]
  },
  {
   "cell_type": "code",
   "execution_count": 6,
   "id": "c3494c03-32c5-4c3d-9012-f18b7917047b",
   "metadata": {
    "tags": []
   },
   "outputs": [],
   "source": [
    "lang = SpacyLanguage(\"../models/hu_vectors-parser-vec-floret-0.1.0/model-best\")\n",
    "lang2 = SpacyLanguage(\"../models/hu_vectors-parser-vec-wiki-0.1.0/model-best\")\n",
    "lang3 = SpacyLanguage(\"../models/hu_vectors-parser-vec-baseline-0.1.0/model-best\")\n",
    "lang4 = SpacyLanguage(\"../models/hu_vectors-parser-vec-2019-0.1.0/model-best\")\n",
    "lang5 = SpacyLanguage(\"../models/hu_vectors-parser-vec-2019-100k-0.1.0/model-best\")\n",
    "lang6 = SpacyLanguage(\"../models/hu_vectors-parser-vec-2019-wiki-100k-0.1.0/model-best\")\n",
    "lang7 = SpacyLanguage(\"../models/hu_vectors-parser-vec-2019-wiki-150k-0.1.0/model-best\")\n",
    "lang8 = SpacyLanguage(\"../models/hu_vectors-ner_merged-floret-2019-wiki-150k-0.1.0/model-best\")"
   ]
  },
  {
   "cell_type": "code",
   "execution_count": 7,
   "id": "4e39b13e-0b37-477d-b647-44aa7d019fc7",
   "metadata": {},
   "outputs": [],
   "source": [
    "x_axis = 'férfi'\n",
    "y_axis = 'macska'\n",
    "words = ['macska', 'kutya', 'béka', 'dinoszaurusz', 'kecske',\n",
    "         'autó', 'busz', 'bicikli', 'hajó', 'kerékpár',\n",
    "         'férfi','nő', 'fiú', 'lány', 'herceg', 'hercegnő', \n",
    "         'király', 'királynő', 'doktor', 'nővér', 'színész', 'színésznő', 'felnőtt']"
   ]
  },
  {
   "cell_type": "code",
   "execution_count": 8,
   "id": "a779d684-86fc-42f6-b339-c1e7d31f6a6b",
   "metadata": {},
   "outputs": [],
   "source": [
    "emb = lang[words]\n",
    "full_floret_u = emb.transform(Umap(2)).plot_interactive( title=\"🌸 full\")\n",
    "full_floret_p = emb.transform(Pca(2)).plot_interactive( title=\"🌸 full\")\n",
    "\n",
    "emb2 = lang2[words]\n",
    "wiki_floret_u = emb2.transform(Umap(2)).plot_interactive(title=\"🌸 wiki\")\n",
    "wiki_floret_p = emb2.transform(Pca(2)).plot_interactive(title=\"🌸 wiki\")\n",
    "\n",
    "emb3 = lang3[words]\n",
    "baseline_u = emb3.transform(Umap(2)).plot_interactive(title=\"baseline\")\n",
    "baseline_p = emb3.transform(Pca(2)).plot_interactive(title=\"baseline\")\n",
    "\n",
    "emb4 = lang4[words]\n",
    "floret_2019_u = emb4.transform(Umap(2)).plot_interactive(title=\"🌸 2019\")\n",
    "floret_2019_p = emb4.transform(Pca(2)).plot_interactive(title=\"🌸 2019\")\n",
    "\n",
    "emb5 = lang5[words]\n",
    "floret_2019_100k_u = emb5.transform(Umap(2)).plot_interactive(title=\"🌸 2019 100k\")\n",
    "floret_2019_100k_p = emb5.transform(Pca(2)).plot_interactive(title=\"🌸 2019 100k\")\n",
    "\n",
    "emb6 = lang6[words]\n",
    "floret_2019_wiki_100k_u = emb6.transform(Umap(2)).plot_interactive(title=\"🌸 2019+wiki 100k\")\n",
    "floret_2019_wiki_100k_p = emb6.transform(Pca(2)).plot_interactive(title=\"🌸 2019+wiki 100k\")\n",
    "\n",
    "emb7 = lang7[words]\n",
    "floret_2019_wiki_150k_u = emb7.transform(Umap(2)).plot_interactive(title=\"🌸 2019+wiki 150k\")\n",
    "floret_2019_wiki_150k_p = emb7.transform(Pca(2)).plot_interactive(title=\"🌸 2019+wiki 150k\")\n",
    "\n",
    "emb8 = lang8[words]\n",
    "floret_ner_2019_wiki_150k_u = emb8.transform(Umap(2)).plot_interactive(title=\"🌸 ner 2019+wiki 150k\")\n",
    "floret_ner_2019_wiki_150k_p = emb8.transform(Pca(2)).plot_interactive(title=\"🌸 ner 2019+wiki 150k\")"
   ]
  },
  {
   "cell_type": "code",
   "execution_count": 9,
   "id": "69feafe3-8dc6-4b9d-a73a-c5355259fe7c",
   "metadata": {
    "tags": []
   },
   "outputs": [
    {
     "data": {
      "text/html": [
       "\n",
       "<div id=\"altair-viz-86bf20a209594054835bd71facc34ae9\"></div>\n",
       "<script type=\"text/javascript\">\n",
       "  var VEGA_DEBUG = (typeof VEGA_DEBUG == \"undefined\") ? {} : VEGA_DEBUG;\n",
       "  (function(spec, embedOpt){\n",
       "    let outputDiv = document.currentScript.previousElementSibling;\n",
       "    if (outputDiv.id !== \"altair-viz-86bf20a209594054835bd71facc34ae9\") {\n",
       "      outputDiv = document.getElementById(\"altair-viz-86bf20a209594054835bd71facc34ae9\");\n",
       "    }\n",
       "    const paths = {\n",
       "      \"vega\": \"https://cdn.jsdelivr.net/npm//vega@5?noext\",\n",
       "      \"vega-lib\": \"https://cdn.jsdelivr.net/npm//vega-lib?noext\",\n",
       "      \"vega-lite\": \"https://cdn.jsdelivr.net/npm//vega-lite@4.17.0?noext\",\n",
       "      \"vega-embed\": \"https://cdn.jsdelivr.net/npm//vega-embed@6?noext\",\n",
       "    };\n",
       "\n",
       "    function maybeLoadScript(lib, version) {\n",
       "      var key = `${lib.replace(\"-\", \"\")}_version`;\n",
       "      return (VEGA_DEBUG[key] == version) ?\n",
       "        Promise.resolve(paths[lib]) :\n",
       "        new Promise(function(resolve, reject) {\n",
       "          var s = document.createElement('script');\n",
       "          document.getElementsByTagName(\"head\")[0].appendChild(s);\n",
       "          s.async = true;\n",
       "          s.onload = () => {\n",
       "            VEGA_DEBUG[key] = version;\n",
       "            return resolve(paths[lib]);\n",
       "          };\n",
       "          s.onerror = () => reject(`Error loading script: ${paths[lib]}`);\n",
       "          s.src = paths[lib];\n",
       "        });\n",
       "    }\n",
       "\n",
       "    function showError(err) {\n",
       "      outputDiv.innerHTML = `<div class=\"error\" style=\"color:red;\">${err}</div>`;\n",
       "      throw err;\n",
       "    }\n",
       "\n",
       "    function displayChart(vegaEmbed) {\n",
       "      vegaEmbed(outputDiv, spec, embedOpt)\n",
       "        .catch(err => showError(`Javascript Error: ${err.message}<br>This usually means there's a typo in your chart specification. See the javascript console for the full traceback.`));\n",
       "    }\n",
       "\n",
       "    if(typeof define === \"function\" && define.amd) {\n",
       "      requirejs.config({paths});\n",
       "      require([\"vega-embed\"], displayChart, err => showError(`Error loading script: ${err.message}`));\n",
       "    } else {\n",
       "      maybeLoadScript(\"vega\", \"5\")\n",
       "        .then(() => maybeLoadScript(\"vega-lite\", \"4.17.0\"))\n",
       "        .then(() => maybeLoadScript(\"vega-embed\", \"6\"))\n",
       "        .catch(showError)\n",
       "        .then(() => displayChart(vegaEmbed));\n",
       "    }\n",
       "  })({\"config\": {\"view\": {\"continuousWidth\": 400, \"continuousHeight\": 300}}, \"hconcat\": [{\"layer\": [{\"mark\": {\"type\": \"circle\", \"size\": 60}, \"encoding\": {\"color\": {\"field\": \"\", \"legend\": null, \"type\": \"nominal\"}, \"tooltip\": [{\"field\": \"name\", \"type\": \"nominal\"}, {\"field\": \"original\", \"type\": \"nominal\"}], \"x\": {\"axis\": {\"title\": \"Dimension 0\"}, \"field\": \"x_axis\", \"type\": \"quantitative\"}, \"y\": {\"axis\": {\"title\": \"Dimension 1\"}, \"field\": \"y_axis\", \"type\": \"quantitative\"}}, \"selection\": {\"selector017\": {\"type\": \"interval\", \"bind\": \"scales\", \"encodings\": [\"x\", \"y\"]}}, \"title\": \"baseline\"}, {\"mark\": {\"type\": \"text\", \"color\": \"black\", \"dx\": -15, \"dy\": 3}, \"encoding\": {\"text\": {\"field\": \"original\", \"type\": \"nominal\"}, \"x\": {\"field\": \"x_axis\", \"type\": \"quantitative\"}, \"y\": {\"field\": \"y_axis\", \"type\": \"quantitative\"}}}], \"data\": {\"name\": \"data-493d4f5942ad4f39bfa278c200cf0b9b\"}}, {\"layer\": [{\"mark\": {\"type\": \"circle\", \"size\": 60}, \"encoding\": {\"color\": {\"field\": \"\", \"legend\": null, \"type\": \"nominal\"}, \"tooltip\": [{\"field\": \"name\", \"type\": \"nominal\"}, {\"field\": \"original\", \"type\": \"nominal\"}], \"x\": {\"axis\": {\"title\": \"Dimension 0\"}, \"field\": \"x_axis\", \"type\": \"quantitative\"}, \"y\": {\"axis\": {\"title\": \"Dimension 1\"}, \"field\": \"y_axis\", \"type\": \"quantitative\"}}, \"selection\": {\"selector015\": {\"type\": \"interval\", \"bind\": \"scales\", \"encodings\": [\"x\", \"y\"]}}, \"title\": \"\\ud83c\\udf38 wiki\"}, {\"mark\": {\"type\": \"text\", \"color\": \"black\", \"dx\": -15, \"dy\": 3}, \"encoding\": {\"text\": {\"field\": \"original\", \"type\": \"nominal\"}, \"x\": {\"field\": \"x_axis\", \"type\": \"quantitative\"}, \"y\": {\"field\": \"y_axis\", \"type\": \"quantitative\"}}}], \"data\": {\"name\": \"data-06e54995fa8798d8be63edfd91df5621\"}}, {\"layer\": [{\"mark\": {\"type\": \"circle\", \"size\": 60}, \"encoding\": {\"color\": {\"field\": \"\", \"legend\": null, \"type\": \"nominal\"}, \"tooltip\": [{\"field\": \"name\", \"type\": \"nominal\"}, {\"field\": \"original\", \"type\": \"nominal\"}], \"x\": {\"axis\": {\"title\": \"Dimension 0\"}, \"field\": \"x_axis\", \"type\": \"quantitative\"}, \"y\": {\"axis\": {\"title\": \"Dimension 1\"}, \"field\": \"y_axis\", \"type\": \"quantitative\"}}, \"selection\": {\"selector019\": {\"type\": \"interval\", \"bind\": \"scales\", \"encodings\": [\"x\", \"y\"]}}, \"title\": \"\\ud83c\\udf38 2019\"}, {\"mark\": {\"type\": \"text\", \"color\": \"black\", \"dx\": -15, \"dy\": 3}, \"encoding\": {\"text\": {\"field\": \"original\", \"type\": \"nominal\"}, \"x\": {\"field\": \"x_axis\", \"type\": \"quantitative\"}, \"y\": {\"field\": \"y_axis\", \"type\": \"quantitative\"}}}], \"data\": {\"name\": \"data-36050d470feb51b173feff5527e033a3\"}}], \"$schema\": \"https://vega.github.io/schema/vega-lite/v4.17.0.json\", \"datasets\": {\"data-493d4f5942ad4f39bfa278c200cf0b9b\": [{\"x_axis\": 20.59394073486328, \"y_axis\": 3.9474544525146484, \"name\": \"macska\", \"original\": \"macska\"}, {\"x_axis\": 20.179779052734375, \"y_axis\": 4.785883903503418, \"name\": \"kutya\", \"original\": \"kutya\"}, {\"x_axis\": 20.843082427978516, \"y_axis\": 3.3903653621673584, \"name\": \"b\\u00e9ka\", \"original\": \"b\\u00e9ka\"}, {\"x_axis\": 21.131357192993164, \"y_axis\": 4.063113689422607, \"name\": \"dinoszaurusz\", \"original\": \"dinoszaurusz\"}, {\"x_axis\": 20.242366790771484, \"y_axis\": 3.5816962718963623, \"name\": \"kecske\", \"original\": \"kecske\"}, {\"x_axis\": 18.965635299682617, \"y_axis\": 4.787768363952637, \"name\": \"aut\\u00f3\", \"original\": \"aut\\u00f3\"}, {\"x_axis\": 19.540721893310547, \"y_axis\": 4.7148261070251465, \"name\": \"busz\", \"original\": \"busz\"}, {\"x_axis\": 20.794038772583008, \"y_axis\": 4.6393890380859375, \"name\": \"bicikli\", \"original\": \"bicikli\"}, {\"x_axis\": 19.545663833618164, \"y_axis\": 3.981363534927368, \"name\": \"haj\\u00f3\", \"original\": \"haj\\u00f3\"}, {\"x_axis\": 19.325252532958984, \"y_axis\": 5.272766590118408, \"name\": \"ker\\u00e9kp\\u00e1r\", \"original\": \"ker\\u00e9kp\\u00e1r\"}, {\"x_axis\": 20.92546272277832, \"y_axis\": 5.036986827850342, \"name\": \"f\\u00e9rfi\", \"original\": \"f\\u00e9rfi\"}, {\"x_axis\": 21.525650024414062, \"y_axis\": 6.11338996887207, \"name\": \"n\\u0151\", \"original\": \"n\\u0151\"}, {\"x_axis\": 20.986875534057617, \"y_axis\": 6.288561820983887, \"name\": \"fi\\u00fa\", \"original\": \"fi\\u00fa\"}, {\"x_axis\": 20.997716903686523, \"y_axis\": 5.8374104499816895, \"name\": \"l\\u00e1ny\", \"original\": \"l\\u00e1ny\"}, {\"x_axis\": 22.233457565307617, \"y_axis\": 4.866985321044922, \"name\": \"herceg\", \"original\": \"herceg\"}, {\"x_axis\": 21.885610580444336, \"y_axis\": 5.275753021240234, \"name\": \"hercegn\\u0151\", \"original\": \"hercegn\\u0151\"}, {\"x_axis\": 22.050874710083008, \"y_axis\": 4.139389991760254, \"name\": \"kir\\u00e1ly\", \"original\": \"kir\\u00e1ly\"}, {\"x_axis\": 21.69240379333496, \"y_axis\": 4.647764682769775, \"name\": \"kir\\u00e1lyn\\u0151\", \"original\": \"kir\\u00e1lyn\\u0151\"}, {\"x_axis\": 19.87214469909668, \"y_axis\": 6.200993537902832, \"name\": \"doktor\", \"original\": \"doktor\"}, {\"x_axis\": 20.60011863708496, \"y_axis\": 6.471871376037598, \"name\": \"n\\u0151v\\u00e9r\", \"original\": \"n\\u0151v\\u00e9r\"}, {\"x_axis\": 20.092363357543945, \"y_axis\": 5.68596887588501, \"name\": \"sz\\u00edn\\u00e9sz\", \"original\": \"sz\\u00edn\\u00e9sz\"}, {\"x_axis\": 20.442459106445312, \"y_axis\": 5.428158283233643, \"name\": \"sz\\u00edn\\u00e9szn\\u0151\", \"original\": \"sz\\u00edn\\u00e9szn\\u0151\"}, {\"x_axis\": 20.333898544311523, \"y_axis\": 4.327455520629883, \"name\": \"feln\\u0151tt\", \"original\": \"feln\\u0151tt\"}], \"data-06e54995fa8798d8be63edfd91df5621\": [{\"x_axis\": 4.683992862701416, \"y_axis\": 10.52213191986084, \"name\": \"macska\", \"original\": \"macska\"}, {\"x_axis\": 4.836030006408691, \"y_axis\": 10.053028106689453, \"name\": \"kutya\", \"original\": \"kutya\"}, {\"x_axis\": 4.201877117156982, \"y_axis\": 10.752102851867676, \"name\": \"b\\u00e9ka\", \"original\": \"b\\u00e9ka\"}, {\"x_axis\": 4.140346050262451, \"y_axis\": 9.220502853393555, \"name\": \"dinoszaurusz\", \"original\": \"dinoszaurusz\"}, {\"x_axis\": 4.176473617553711, \"y_axis\": 10.20462703704834, \"name\": \"kecske\", \"original\": \"kecske\"}, {\"x_axis\": 5.573134899139404, \"y_axis\": 8.648321151733398, \"name\": \"aut\\u00f3\", \"original\": \"aut\\u00f3\"}, {\"x_axis\": 5.262020111083984, \"y_axis\": 9.111302375793457, \"name\": \"busz\", \"original\": \"busz\"}, {\"x_axis\": 4.580230236053467, \"y_axis\": 9.709596633911133, \"name\": \"bicikli\", \"original\": \"bicikli\"}, {\"x_axis\": 4.3392157554626465, \"y_axis\": 8.628150939941406, \"name\": \"haj\\u00f3\", \"original\": \"haj\\u00f3\"}, {\"x_axis\": 4.877782821655273, \"y_axis\": 9.01010799407959, \"name\": \"ker\\u00e9kp\\u00e1r\", \"original\": \"ker\\u00e9kp\\u00e1r\"}, {\"x_axis\": 5.89076042175293, \"y_axis\": 10.472843170166016, \"name\": \"f\\u00e9rfi\", \"original\": \"f\\u00e9rfi\"}, {\"x_axis\": 6.526802062988281, \"y_axis\": 11.430187225341797, \"name\": \"n\\u0151\", \"original\": \"n\\u0151\"}, {\"x_axis\": 7.142821788787842, \"y_axis\": 11.23312759399414, \"name\": \"fi\\u00fa\", \"original\": \"fi\\u00fa\"}, {\"x_axis\": 6.9935383796691895, \"y_axis\": 10.892510414123535, \"name\": \"l\\u00e1ny\", \"original\": \"l\\u00e1ny\"}, {\"x_axis\": 6.50494384765625, \"y_axis\": 10.045019149780273, \"name\": \"herceg\", \"original\": \"herceg\"}, {\"x_axis\": 6.44862699508667, \"y_axis\": 10.547160148620605, \"name\": \"hercegn\\u0151\", \"original\": \"hercegn\\u0151\"}, {\"x_axis\": 5.173621654510498, \"y_axis\": 11.182048797607422, \"name\": \"kir\\u00e1ly\", \"original\": \"kir\\u00e1ly\"}, {\"x_axis\": 5.133398532867432, \"y_axis\": 11.58753490447998, \"name\": \"kir\\u00e1lyn\\u0151\", \"original\": \"kir\\u00e1lyn\\u0151\"}, {\"x_axis\": 5.469969749450684, \"y_axis\": 10.051533699035645, \"name\": \"doktor\", \"original\": \"doktor\"}, {\"x_axis\": 7.165926456451416, \"y_axis\": 10.335683822631836, \"name\": \"n\\u0151v\\u00e9r\", \"original\": \"n\\u0151v\\u00e9r\"}, {\"x_axis\": 5.842545986175537, \"y_axis\": 11.085307121276855, \"name\": \"sz\\u00edn\\u00e9sz\", \"original\": \"sz\\u00edn\\u00e9sz\"}, {\"x_axis\": 6.006081581115723, \"y_axis\": 9.830808639526367, \"name\": \"sz\\u00edn\\u00e9szn\\u0151\", \"original\": \"sz\\u00edn\\u00e9szn\\u0151\"}, {\"x_axis\": 3.829608201980591, \"y_axis\": 9.629478454589844, \"name\": \"feln\\u0151tt\", \"original\": \"feln\\u0151tt\"}], \"data-36050d470feb51b173feff5527e033a3\": [{\"x_axis\": -3.9363584518432617, \"y_axis\": 10.011991500854492, \"name\": \"macska\", \"original\": \"macska\"}, {\"x_axis\": -4.257583141326904, \"y_axis\": 10.290282249450684, \"name\": \"kutya\", \"original\": \"kutya\"}, {\"x_axis\": -3.4671213626861572, \"y_axis\": 9.725567817687988, \"name\": \"b\\u00e9ka\", \"original\": \"b\\u00e9ka\"}, {\"x_axis\": -4.787451267242432, \"y_axis\": 9.966888427734375, \"name\": \"dinoszaurusz\", \"original\": \"dinoszaurusz\"}, {\"x_axis\": -4.372077941894531, \"y_axis\": 9.752439498901367, \"name\": \"kecske\", \"original\": \"kecske\"}, {\"x_axis\": -4.994924545288086, \"y_axis\": 11.223984718322754, \"name\": \"aut\\u00f3\", \"original\": \"aut\\u00f3\"}, {\"x_axis\": -4.405445098876953, \"y_axis\": 11.307012557983398, \"name\": \"busz\", \"original\": \"busz\"}, {\"x_axis\": -3.918738603591919, \"y_axis\": 10.799596786499023, \"name\": \"bicikli\", \"original\": \"bicikli\"}, {\"x_axis\": -5.173432350158691, \"y_axis\": 10.619199752807617, \"name\": \"haj\\u00f3\", \"original\": \"haj\\u00f3\"}, {\"x_axis\": -4.814489364624023, \"y_axis\": 10.794658660888672, \"name\": \"ker\\u00e9kp\\u00e1r\", \"original\": \"ker\\u00e9kp\\u00e1r\"}, {\"x_axis\": -4.337789058685303, \"y_axis\": 7.9060516357421875, \"name\": \"f\\u00e9rfi\", \"original\": \"f\\u00e9rfi\"}, {\"x_axis\": -4.378459453582764, \"y_axis\": 7.2922468185424805, \"name\": \"n\\u0151\", \"original\": \"n\\u0151\"}, {\"x_axis\": -5.208535671234131, \"y_axis\": 7.470214366912842, \"name\": \"fi\\u00fa\", \"original\": \"fi\\u00fa\"}, {\"x_axis\": -4.815091609954834, \"y_axis\": 7.282846927642822, \"name\": \"l\\u00e1ny\", \"original\": \"l\\u00e1ny\"}, {\"x_axis\": -3.8230702877044678, \"y_axis\": 8.388297080993652, \"name\": \"herceg\", \"original\": \"herceg\"}, {\"x_axis\": -5.644158840179443, \"y_axis\": 9.176623344421387, \"name\": \"hercegn\\u0151\", \"original\": \"hercegn\\u0151\"}, {\"x_axis\": -3.866610288619995, \"y_axis\": 8.983757972717285, \"name\": \"kir\\u00e1ly\", \"original\": \"kir\\u00e1ly\"}, {\"x_axis\": -4.32695198059082, \"y_axis\": 8.75972843170166, \"name\": \"kir\\u00e1lyn\\u0151\", \"original\": \"kir\\u00e1lyn\\u0151\"}, {\"x_axis\": -4.867778778076172, \"y_axis\": 9.163553237915039, \"name\": \"doktor\", \"original\": \"doktor\"}, {\"x_axis\": -4.893924713134766, \"y_axis\": 8.211297035217285, \"name\": \"n\\u0151v\\u00e9r\", \"original\": \"n\\u0151v\\u00e9r\"}, {\"x_axis\": -5.599351406097412, \"y_axis\": 8.55473804473877, \"name\": \"sz\\u00edn\\u00e9sz\", \"original\": \"sz\\u00edn\\u00e9sz\"}, {\"x_axis\": -5.083120346069336, \"y_axis\": 8.668984413146973, \"name\": \"sz\\u00edn\\u00e9szn\\u0151\", \"original\": \"sz\\u00edn\\u00e9szn\\u0151\"}, {\"x_axis\": -5.312953948974609, \"y_axis\": 9.740837097167969, \"name\": \"feln\\u0151tt\", \"original\": \"feln\\u0151tt\"}]}}, {\"mode\": \"vega-lite\"});\n",
       "</script>"
      ],
      "text/plain": [
       "alt.HConcatChart(...)"
      ]
     },
     "execution_count": 9,
     "metadata": {},
     "output_type": "execute_result"
    }
   ],
   "source": [
    "baseline_u | wiki_floret_u | floret_2019_u "
   ]
  },
  {
   "cell_type": "code",
   "execution_count": 10,
   "id": "feb1b720-4a2c-477f-bcbc-7d98c3889418",
   "metadata": {},
   "outputs": [
    {
     "data": {
      "text/html": [
       "\n",
       "<div id=\"altair-viz-2d204cfeaf414badac01ee661e4678a4\"></div>\n",
       "<script type=\"text/javascript\">\n",
       "  var VEGA_DEBUG = (typeof VEGA_DEBUG == \"undefined\") ? {} : VEGA_DEBUG;\n",
       "  (function(spec, embedOpt){\n",
       "    let outputDiv = document.currentScript.previousElementSibling;\n",
       "    if (outputDiv.id !== \"altair-viz-2d204cfeaf414badac01ee661e4678a4\") {\n",
       "      outputDiv = document.getElementById(\"altair-viz-2d204cfeaf414badac01ee661e4678a4\");\n",
       "    }\n",
       "    const paths = {\n",
       "      \"vega\": \"https://cdn.jsdelivr.net/npm//vega@5?noext\",\n",
       "      \"vega-lib\": \"https://cdn.jsdelivr.net/npm//vega-lib?noext\",\n",
       "      \"vega-lite\": \"https://cdn.jsdelivr.net/npm//vega-lite@4.17.0?noext\",\n",
       "      \"vega-embed\": \"https://cdn.jsdelivr.net/npm//vega-embed@6?noext\",\n",
       "    };\n",
       "\n",
       "    function maybeLoadScript(lib, version) {\n",
       "      var key = `${lib.replace(\"-\", \"\")}_version`;\n",
       "      return (VEGA_DEBUG[key] == version) ?\n",
       "        Promise.resolve(paths[lib]) :\n",
       "        new Promise(function(resolve, reject) {\n",
       "          var s = document.createElement('script');\n",
       "          document.getElementsByTagName(\"head\")[0].appendChild(s);\n",
       "          s.async = true;\n",
       "          s.onload = () => {\n",
       "            VEGA_DEBUG[key] = version;\n",
       "            return resolve(paths[lib]);\n",
       "          };\n",
       "          s.onerror = () => reject(`Error loading script: ${paths[lib]}`);\n",
       "          s.src = paths[lib];\n",
       "        });\n",
       "    }\n",
       "\n",
       "    function showError(err) {\n",
       "      outputDiv.innerHTML = `<div class=\"error\" style=\"color:red;\">${err}</div>`;\n",
       "      throw err;\n",
       "    }\n",
       "\n",
       "    function displayChart(vegaEmbed) {\n",
       "      vegaEmbed(outputDiv, spec, embedOpt)\n",
       "        .catch(err => showError(`Javascript Error: ${err.message}<br>This usually means there's a typo in your chart specification. See the javascript console for the full traceback.`));\n",
       "    }\n",
       "\n",
       "    if(typeof define === \"function\" && define.amd) {\n",
       "      requirejs.config({paths});\n",
       "      require([\"vega-embed\"], displayChart, err => showError(`Error loading script: ${err.message}`));\n",
       "    } else {\n",
       "      maybeLoadScript(\"vega\", \"5\")\n",
       "        .then(() => maybeLoadScript(\"vega-lite\", \"4.17.0\"))\n",
       "        .then(() => maybeLoadScript(\"vega-embed\", \"6\"))\n",
       "        .catch(showError)\n",
       "        .then(() => displayChart(vegaEmbed));\n",
       "    }\n",
       "  })({\"config\": {\"view\": {\"continuousWidth\": 400, \"continuousHeight\": 300}}, \"hconcat\": [{\"layer\": [{\"mark\": {\"type\": \"circle\", \"size\": 60}, \"encoding\": {\"color\": {\"field\": \"\", \"legend\": null, \"type\": \"nominal\"}, \"tooltip\": [{\"field\": \"name\", \"type\": \"nominal\"}, {\"field\": \"original\", \"type\": \"nominal\"}], \"x\": {\"axis\": {\"title\": \"Dimension 0\"}, \"field\": \"x_axis\", \"type\": \"quantitative\"}, \"y\": {\"axis\": {\"title\": \"Dimension 1\"}, \"field\": \"y_axis\", \"type\": \"quantitative\"}}, \"selection\": {\"selector021\": {\"type\": \"interval\", \"bind\": \"scales\", \"encodings\": [\"x\", \"y\"]}}, \"title\": \"\\ud83c\\udf38 2019 100k\"}, {\"mark\": {\"type\": \"text\", \"color\": \"black\", \"dx\": -15, \"dy\": 3}, \"encoding\": {\"text\": {\"field\": \"original\", \"type\": \"nominal\"}, \"x\": {\"field\": \"x_axis\", \"type\": \"quantitative\"}, \"y\": {\"field\": \"y_axis\", \"type\": \"quantitative\"}}}], \"data\": {\"name\": \"data-03e60c4c3a866fe6ddced7126e8f8b4a\"}}, {\"layer\": [{\"mark\": {\"type\": \"circle\", \"size\": 60}, \"encoding\": {\"color\": {\"field\": \"\", \"legend\": null, \"type\": \"nominal\"}, \"tooltip\": [{\"field\": \"name\", \"type\": \"nominal\"}, {\"field\": \"original\", \"type\": \"nominal\"}], \"x\": {\"axis\": {\"title\": \"Dimension 0\"}, \"field\": \"x_axis\", \"type\": \"quantitative\"}, \"y\": {\"axis\": {\"title\": \"Dimension 1\"}, \"field\": \"y_axis\", \"type\": \"quantitative\"}}, \"selection\": {\"selector023\": {\"type\": \"interval\", \"bind\": \"scales\", \"encodings\": [\"x\", \"y\"]}}, \"title\": \"\\ud83c\\udf38 2019+wiki 100k\"}, {\"mark\": {\"type\": \"text\", \"color\": \"black\", \"dx\": -15, \"dy\": 3}, \"encoding\": {\"text\": {\"field\": \"original\", \"type\": \"nominal\"}, \"x\": {\"field\": \"x_axis\", \"type\": \"quantitative\"}, \"y\": {\"field\": \"y_axis\", \"type\": \"quantitative\"}}}], \"data\": {\"name\": \"data-1bbad598b9feee2d17ebd0dab82a645e\"}}, {\"layer\": [{\"mark\": {\"type\": \"circle\", \"size\": 60}, \"encoding\": {\"color\": {\"field\": \"\", \"legend\": null, \"type\": \"nominal\"}, \"tooltip\": [{\"field\": \"name\", \"type\": \"nominal\"}, {\"field\": \"original\", \"type\": \"nominal\"}], \"x\": {\"axis\": {\"title\": \"Dimension 0\"}, \"field\": \"x_axis\", \"type\": \"quantitative\"}, \"y\": {\"axis\": {\"title\": \"Dimension 1\"}, \"field\": \"y_axis\", \"type\": \"quantitative\"}}, \"selection\": {\"selector013\": {\"type\": \"interval\", \"bind\": \"scales\", \"encodings\": [\"x\", \"y\"]}}, \"title\": \"\\ud83c\\udf38 full\"}, {\"mark\": {\"type\": \"text\", \"color\": \"black\", \"dx\": -15, \"dy\": 3}, \"encoding\": {\"text\": {\"field\": \"original\", \"type\": \"nominal\"}, \"x\": {\"field\": \"x_axis\", \"type\": \"quantitative\"}, \"y\": {\"field\": \"y_axis\", \"type\": \"quantitative\"}}}], \"data\": {\"name\": \"data-f047d6f0f3df804c183ebaeaefd85dc3\"}}], \"$schema\": \"https://vega.github.io/schema/vega-lite/v4.17.0.json\", \"datasets\": {\"data-03e60c4c3a866fe6ddced7126e8f8b4a\": [{\"x_axis\": -14.648836135864258, \"y_axis\": 11.631211280822754, \"name\": \"macska\", \"original\": \"macska\"}, {\"x_axis\": -14.169414520263672, \"y_axis\": 11.994935035705566, \"name\": \"kutya\", \"original\": \"kutya\"}, {\"x_axis\": -14.934663772583008, \"y_axis\": 11.040454864501953, \"name\": \"b\\u00e9ka\", \"original\": \"b\\u00e9ka\"}, {\"x_axis\": -14.315435409545898, \"y_axis\": 11.272862434387207, \"name\": \"dinoszaurusz\", \"original\": \"dinoszaurusz\"}, {\"x_axis\": -15.141572952270508, \"y_axis\": 11.60068130493164, \"name\": \"kecske\", \"original\": \"kecske\"}, {\"x_axis\": -13.084081649780273, \"y_axis\": 13.527228355407715, \"name\": \"aut\\u00f3\", \"original\": \"aut\\u00f3\"}, {\"x_axis\": -13.563492774963379, \"y_axis\": 13.577072143554688, \"name\": \"busz\", \"original\": \"busz\"}, {\"x_axis\": -14.15569019317627, \"y_axis\": 12.798515319824219, \"name\": \"bicikli\", \"original\": \"bicikli\"}, {\"x_axis\": -13.8469820022583, \"y_axis\": 13.172080993652344, \"name\": \"haj\\u00f3\", \"original\": \"haj\\u00f3\"}, {\"x_axis\": -13.325080871582031, \"y_axis\": 12.935452461242676, \"name\": \"ker\\u00e9kp\\u00e1r\", \"original\": \"ker\\u00e9kp\\u00e1r\"}, {\"x_axis\": -12.731484413146973, \"y_axis\": 10.94146728515625, \"name\": \"f\\u00e9rfi\", \"original\": \"f\\u00e9rfi\"}, {\"x_axis\": -12.215797424316406, \"y_axis\": 11.267502784729004, \"name\": \"n\\u0151\", \"original\": \"n\\u0151\"}, {\"x_axis\": -12.340396881103516, \"y_axis\": 11.756808280944824, \"name\": \"fi\\u00fa\", \"original\": \"fi\\u00fa\"}, {\"x_axis\": -11.841042518615723, \"y_axis\": 11.5435791015625, \"name\": \"l\\u00e1ny\", \"original\": \"l\\u00e1ny\"}, {\"x_axis\": -14.879405975341797, \"y_axis\": 12.151500701904297, \"name\": \"herceg\", \"original\": \"herceg\"}, {\"x_axis\": -13.394468307495117, \"y_axis\": 12.120065689086914, \"name\": \"hercegn\\u0151\", \"original\": \"hercegn\\u0151\"}, {\"x_axis\": -15.203086853027344, \"y_axis\": 12.512500762939453, \"name\": \"kir\\u00e1ly\", \"original\": \"kir\\u00e1ly\"}, {\"x_axis\": -14.94582462310791, \"y_axis\": 13.039196968078613, \"name\": \"kir\\u00e1lyn\\u0151\", \"original\": \"kir\\u00e1lyn\\u0151\"}, {\"x_axis\": -14.264501571655273, \"y_axis\": 10.63453197479248, \"name\": \"doktor\", \"original\": \"doktor\"}, {\"x_axis\": -13.158621788024902, \"y_axis\": 10.510282516479492, \"name\": \"n\\u0151v\\u00e9r\", \"original\": \"n\\u0151v\\u00e9r\"}, {\"x_axis\": -13.235547065734863, \"y_axis\": 11.365774154663086, \"name\": \"sz\\u00edn\\u00e9sz\", \"original\": \"sz\\u00edn\\u00e9sz\"}, {\"x_axis\": -13.729095458984375, \"y_axis\": 10.482680320739746, \"name\": \"sz\\u00edn\\u00e9szn\\u0151\", \"original\": \"sz\\u00edn\\u00e9szn\\u0151\"}, {\"x_axis\": -13.809775352478027, \"y_axis\": 11.512250900268555, \"name\": \"feln\\u0151tt\", \"original\": \"feln\\u0151tt\"}], \"data-1bbad598b9feee2d17ebd0dab82a645e\": [{\"x_axis\": 6.9614176750183105, \"y_axis\": 7.79284143447876, \"name\": \"macska\", \"original\": \"macska\"}, {\"x_axis\": 6.546208381652832, \"y_axis\": 8.271862030029297, \"name\": \"kutya\", \"original\": \"kutya\"}, {\"x_axis\": 6.445127964019775, \"y_axis\": 7.668776512145996, \"name\": \"b\\u00e9ka\", \"original\": \"b\\u00e9ka\"}, {\"x_axis\": 5.491745948791504, \"y_axis\": 8.180294036865234, \"name\": \"dinoszaurusz\", \"original\": \"dinoszaurusz\"}, {\"x_axis\": 5.928921699523926, \"y_axis\": 7.897320747375488, \"name\": \"kecske\", \"original\": \"kecske\"}, {\"x_axis\": 5.075239181518555, \"y_axis\": 7.135944366455078, \"name\": \"aut\\u00f3\", \"original\": \"aut\\u00f3\"}, {\"x_axis\": 5.812259674072266, \"y_axis\": 6.786148548126221, \"name\": \"busz\", \"original\": \"busz\"}, {\"x_axis\": 5.539140224456787, \"y_axis\": 7.410612106323242, \"name\": \"bicikli\", \"original\": \"bicikli\"}, {\"x_axis\": 4.8460283279418945, \"y_axis\": 6.677550792694092, \"name\": \"haj\\u00f3\", \"original\": \"haj\\u00f3\"}, {\"x_axis\": 5.356712341308594, \"y_axis\": 6.572223663330078, \"name\": \"ker\\u00e9kp\\u00e1r\", \"original\": \"ker\\u00e9kp\\u00e1r\"}, {\"x_axis\": 6.311260223388672, \"y_axis\": 10.108358383178711, \"name\": \"f\\u00e9rfi\", \"original\": \"f\\u00e9rfi\"}, {\"x_axis\": 6.209850788116455, \"y_axis\": 10.690686225891113, \"name\": \"n\\u0151\", \"original\": \"n\\u0151\"}, {\"x_axis\": 5.470560073852539, \"y_axis\": 10.714985847473145, \"name\": \"fi\\u00fa\", \"original\": \"fi\\u00fa\"}, {\"x_axis\": 5.763710975646973, \"y_axis\": 10.39223861694336, \"name\": \"l\\u00e1ny\", \"original\": \"l\\u00e1ny\"}, {\"x_axis\": 4.8506011962890625, \"y_axis\": 9.190070152282715, \"name\": \"herceg\", \"original\": \"herceg\"}, {\"x_axis\": 5.294204235076904, \"y_axis\": 9.062885284423828, \"name\": \"hercegn\\u0151\", \"original\": \"hercegn\\u0151\"}, {\"x_axis\": 4.601583003997803, \"y_axis\": 8.883846282958984, \"name\": \"kir\\u00e1ly\", \"original\": \"kir\\u00e1ly\"}, {\"x_axis\": 4.731853485107422, \"y_axis\": 9.560261726379395, \"name\": \"kir\\u00e1lyn\\u0151\", \"original\": \"kir\\u00e1lyn\\u0151\"}, {\"x_axis\": 5.9827728271484375, \"y_axis\": 8.918476104736328, \"name\": \"doktor\", \"original\": \"doktor\"}, {\"x_axis\": 6.214898109436035, \"y_axis\": 9.52255630493164, \"name\": \"n\\u0151v\\u00e9r\", \"original\": \"n\\u0151v\\u00e9r\"}, {\"x_axis\": 6.7951273918151855, \"y_axis\": 9.639815330505371, \"name\": \"sz\\u00edn\\u00e9sz\", \"original\": \"sz\\u00edn\\u00e9sz\"}, {\"x_axis\": 5.763383865356445, \"y_axis\": 9.572976112365723, \"name\": \"sz\\u00edn\\u00e9szn\\u0151\", \"original\": \"sz\\u00edn\\u00e9szn\\u0151\"}, {\"x_axis\": 6.695903778076172, \"y_axis\": 8.754508018493652, \"name\": \"feln\\u0151tt\", \"original\": \"feln\\u0151tt\"}], \"data-f047d6f0f3df804c183ebaeaefd85dc3\": [{\"x_axis\": 12.591594696044922, \"y_axis\": 3.007114887237549, \"name\": \"macska\", \"original\": \"macska\"}, {\"x_axis\": 12.494683265686035, \"y_axis\": 2.4817585945129395, \"name\": \"kutya\", \"original\": \"kutya\"}, {\"x_axis\": 12.845850944519043, \"y_axis\": 3.626232385635376, \"name\": \"b\\u00e9ka\", \"original\": \"b\\u00e9ka\"}, {\"x_axis\": 12.181693077087402, \"y_axis\": 3.511096477508545, \"name\": \"dinoszaurusz\", \"original\": \"dinoszaurusz\"}, {\"x_axis\": 13.115876197814941, \"y_axis\": 3.2124745845794678, \"name\": \"kecske\", \"original\": \"kecske\"}, {\"x_axis\": 11.465875625610352, \"y_axis\": 1.951449990272522, \"name\": \"aut\\u00f3\", \"original\": \"aut\\u00f3\"}, {\"x_axis\": 11.419174194335938, \"y_axis\": 2.357567548751831, \"name\": \"busz\", \"original\": \"busz\"}, {\"x_axis\": 11.937286376953125, \"y_axis\": 2.2049405574798584, \"name\": \"bicikli\", \"original\": \"bicikli\"}, {\"x_axis\": 10.968502044677734, \"y_axis\": 1.8570882081985474, \"name\": \"haj\\u00f3\", \"original\": \"haj\\u00f3\"}, {\"x_axis\": 11.627471923828125, \"y_axis\": 2.75042724609375, \"name\": \"ker\\u00e9kp\\u00e1r\", \"original\": \"ker\\u00e9kp\\u00e1r\"}, {\"x_axis\": 10.558125495910645, \"y_axis\": 4.313757419586182, \"name\": \"f\\u00e9rfi\", \"original\": \"f\\u00e9rfi\"}, {\"x_axis\": 9.808369636535645, \"y_axis\": 4.443599700927734, \"name\": \"n\\u0151\", \"original\": \"n\\u0151\"}, {\"x_axis\": 9.525411605834961, \"y_axis\": 3.7757530212402344, \"name\": \"fi\\u00fa\", \"original\": \"fi\\u00fa\"}, {\"x_axis\": 9.91581916809082, \"y_axis\": 3.973057270050049, \"name\": \"l\\u00e1ny\", \"original\": \"l\\u00e1ny\"}, {\"x_axis\": 11.42857837677002, \"y_axis\": 3.4435579776763916, \"name\": \"herceg\", \"original\": \"herceg\"}, {\"x_axis\": 11.664446830749512, \"y_axis\": 3.9935452938079834, \"name\": \"hercegn\\u0151\", \"original\": \"hercegn\\u0151\"}, {\"x_axis\": 10.988446235656738, \"y_axis\": 3.1109161376953125, \"name\": \"kir\\u00e1ly\", \"original\": \"kir\\u00e1ly\"}, {\"x_axis\": 11.143326759338379, \"y_axis\": 3.8134968280792236, \"name\": \"kir\\u00e1lyn\\u0151\", \"original\": \"kir\\u00e1lyn\\u0151\"}, {\"x_axis\": 11.634275436401367, \"y_axis\": 5.053748607635498, \"name\": \"doktor\", \"original\": \"doktor\"}, {\"x_axis\": 10.832324028015137, \"y_axis\": 5.090032577514648, \"name\": \"n\\u0151v\\u00e9r\", \"original\": \"n\\u0151v\\u00e9r\"}, {\"x_axis\": 11.668041229248047, \"y_axis\": 4.560736656188965, \"name\": \"sz\\u00edn\\u00e9sz\", \"original\": \"sz\\u00edn\\u00e9sz\"}, {\"x_axis\": 11.076151847839355, \"y_axis\": 4.537766456604004, \"name\": \"sz\\u00edn\\u00e9szn\\u0151\", \"original\": \"sz\\u00edn\\u00e9szn\\u0151\"}, {\"x_axis\": 12.425414085388184, \"y_axis\": 4.347507476806641, \"name\": \"feln\\u0151tt\", \"original\": \"feln\\u0151tt\"}]}}, {\"mode\": \"vega-lite\"});\n",
       "</script>"
      ],
      "text/plain": [
       "alt.HConcatChart(...)"
      ]
     },
     "execution_count": 10,
     "metadata": {},
     "output_type": "execute_result"
    }
   ],
   "source": [
    "floret_2019_100k_u | floret_2019_wiki_100k_u | full_floret_u"
   ]
  },
  {
   "cell_type": "code",
   "execution_count": 11,
   "id": "10119875-8b2c-486f-9456-d1577a7f6f33",
   "metadata": {},
   "outputs": [
    {
     "data": {
      "text/html": [
       "\n",
       "<div id=\"altair-viz-52f5393cb66b4966bbc9644f32cbd558\"></div>\n",
       "<script type=\"text/javascript\">\n",
       "  var VEGA_DEBUG = (typeof VEGA_DEBUG == \"undefined\") ? {} : VEGA_DEBUG;\n",
       "  (function(spec, embedOpt){\n",
       "    let outputDiv = document.currentScript.previousElementSibling;\n",
       "    if (outputDiv.id !== \"altair-viz-52f5393cb66b4966bbc9644f32cbd558\") {\n",
       "      outputDiv = document.getElementById(\"altair-viz-52f5393cb66b4966bbc9644f32cbd558\");\n",
       "    }\n",
       "    const paths = {\n",
       "      \"vega\": \"https://cdn.jsdelivr.net/npm//vega@5?noext\",\n",
       "      \"vega-lib\": \"https://cdn.jsdelivr.net/npm//vega-lib?noext\",\n",
       "      \"vega-lite\": \"https://cdn.jsdelivr.net/npm//vega-lite@4.17.0?noext\",\n",
       "      \"vega-embed\": \"https://cdn.jsdelivr.net/npm//vega-embed@6?noext\",\n",
       "    };\n",
       "\n",
       "    function maybeLoadScript(lib, version) {\n",
       "      var key = `${lib.replace(\"-\", \"\")}_version`;\n",
       "      return (VEGA_DEBUG[key] == version) ?\n",
       "        Promise.resolve(paths[lib]) :\n",
       "        new Promise(function(resolve, reject) {\n",
       "          var s = document.createElement('script');\n",
       "          document.getElementsByTagName(\"head\")[0].appendChild(s);\n",
       "          s.async = true;\n",
       "          s.onload = () => {\n",
       "            VEGA_DEBUG[key] = version;\n",
       "            return resolve(paths[lib]);\n",
       "          };\n",
       "          s.onerror = () => reject(`Error loading script: ${paths[lib]}`);\n",
       "          s.src = paths[lib];\n",
       "        });\n",
       "    }\n",
       "\n",
       "    function showError(err) {\n",
       "      outputDiv.innerHTML = `<div class=\"error\" style=\"color:red;\">${err}</div>`;\n",
       "      throw err;\n",
       "    }\n",
       "\n",
       "    function displayChart(vegaEmbed) {\n",
       "      vegaEmbed(outputDiv, spec, embedOpt)\n",
       "        .catch(err => showError(`Javascript Error: ${err.message}<br>This usually means there's a typo in your chart specification. See the javascript console for the full traceback.`));\n",
       "    }\n",
       "\n",
       "    if(typeof define === \"function\" && define.amd) {\n",
       "      requirejs.config({paths});\n",
       "      require([\"vega-embed\"], displayChart, err => showError(`Error loading script: ${err.message}`));\n",
       "    } else {\n",
       "      maybeLoadScript(\"vega\", \"5\")\n",
       "        .then(() => maybeLoadScript(\"vega-lite\", \"4.17.0\"))\n",
       "        .then(() => maybeLoadScript(\"vega-embed\", \"6\"))\n",
       "        .catch(showError)\n",
       "        .then(() => displayChart(vegaEmbed));\n",
       "    }\n",
       "  })({\"config\": {\"view\": {\"continuousWidth\": 400, \"continuousHeight\": 300}}, \"hconcat\": [{\"layer\": [{\"mark\": {\"type\": \"circle\", \"size\": 60}, \"encoding\": {\"color\": {\"field\": \"\", \"legend\": null, \"type\": \"nominal\"}, \"tooltip\": [{\"field\": \"name\", \"type\": \"nominal\"}, {\"field\": \"original\", \"type\": \"nominal\"}], \"x\": {\"axis\": {\"title\": \"Dimension 0\"}, \"field\": \"x_axis\", \"type\": \"quantitative\"}, \"y\": {\"axis\": {\"title\": \"Dimension 1\"}, \"field\": \"y_axis\", \"type\": \"quantitative\"}}, \"selection\": {\"selector018\": {\"type\": \"interval\", \"bind\": \"scales\", \"encodings\": [\"x\", \"y\"]}}, \"title\": \"baseline\"}, {\"mark\": {\"type\": \"text\", \"color\": \"black\", \"dx\": -15, \"dy\": 3}, \"encoding\": {\"text\": {\"field\": \"original\", \"type\": \"nominal\"}, \"x\": {\"field\": \"x_axis\", \"type\": \"quantitative\"}, \"y\": {\"field\": \"y_axis\", \"type\": \"quantitative\"}}}], \"data\": {\"name\": \"data-cfcd402b5ec211a3baef3d6e8d624eea\"}}, {\"layer\": [{\"mark\": {\"type\": \"circle\", \"size\": 60}, \"encoding\": {\"color\": {\"field\": \"\", \"legend\": null, \"type\": \"nominal\"}, \"tooltip\": [{\"field\": \"name\", \"type\": \"nominal\"}, {\"field\": \"original\", \"type\": \"nominal\"}], \"x\": {\"axis\": {\"title\": \"Dimension 0\"}, \"field\": \"x_axis\", \"type\": \"quantitative\"}, \"y\": {\"axis\": {\"title\": \"Dimension 1\"}, \"field\": \"y_axis\", \"type\": \"quantitative\"}}, \"selection\": {\"selector016\": {\"type\": \"interval\", \"bind\": \"scales\", \"encodings\": [\"x\", \"y\"]}}, \"title\": \"\\ud83c\\udf38 wiki\"}, {\"mark\": {\"type\": \"text\", \"color\": \"black\", \"dx\": -15, \"dy\": 3}, \"encoding\": {\"text\": {\"field\": \"original\", \"type\": \"nominal\"}, \"x\": {\"field\": \"x_axis\", \"type\": \"quantitative\"}, \"y\": {\"field\": \"y_axis\", \"type\": \"quantitative\"}}}], \"data\": {\"name\": \"data-8e69153462b0d512e6571a8d3774e886\"}}, {\"layer\": [{\"mark\": {\"type\": \"circle\", \"size\": 60}, \"encoding\": {\"color\": {\"field\": \"\", \"legend\": null, \"type\": \"nominal\"}, \"tooltip\": [{\"field\": \"name\", \"type\": \"nominal\"}, {\"field\": \"original\", \"type\": \"nominal\"}], \"x\": {\"axis\": {\"title\": \"Dimension 0\"}, \"field\": \"x_axis\", \"type\": \"quantitative\"}, \"y\": {\"axis\": {\"title\": \"Dimension 1\"}, \"field\": \"y_axis\", \"type\": \"quantitative\"}}, \"selection\": {\"selector020\": {\"type\": \"interval\", \"bind\": \"scales\", \"encodings\": [\"x\", \"y\"]}}, \"title\": \"\\ud83c\\udf38 2019\"}, {\"mark\": {\"type\": \"text\", \"color\": \"black\", \"dx\": -15, \"dy\": 3}, \"encoding\": {\"text\": {\"field\": \"original\", \"type\": \"nominal\"}, \"x\": {\"field\": \"x_axis\", \"type\": \"quantitative\"}, \"y\": {\"field\": \"y_axis\", \"type\": \"quantitative\"}}}], \"data\": {\"name\": \"data-40078a2b195d9ae55986f17d910e89dc\"}}], \"$schema\": \"https://vega.github.io/schema/vega-lite/v4.17.0.json\", \"datasets\": {\"data-cfcd402b5ec211a3baef3d6e8d624eea\": [{\"x_axis\": -1.7999910116195679, \"y_axis\": 0.8966939449310303, \"name\": \"macska\", \"original\": \"macska\"}, {\"x_axis\": -0.5472106337547302, \"y_axis\": 2.662989616394043, \"name\": \"kutya\", \"original\": \"kutya\"}, {\"x_axis\": -4.399733066558838, \"y_axis\": -5.772788047790527, \"name\": \"b\\u00e9ka\", \"original\": \"b\\u00e9ka\"}, {\"x_axis\": -6.961336135864258, \"y_axis\": 0.1779082864522934, \"name\": \"dinoszaurusz\", \"original\": \"dinoszaurusz\"}, {\"x_axis\": -4.179224967956543, \"y_axis\": 1.042151927947998, \"name\": \"kecske\", \"original\": \"kecske\"}, {\"x_axis\": -5.851545333862305, \"y_axis\": 21.49027442932129, \"name\": \"aut\\u00f3\", \"original\": \"aut\\u00f3\"}, {\"x_axis\": -8.607112884521484, \"y_axis\": 19.36253547668457, \"name\": \"busz\", \"original\": \"busz\"}, {\"x_axis\": -5.769840717315674, \"y_axis\": 1.9172438383102417, \"name\": \"bicikli\", \"original\": \"bicikli\"}, {\"x_axis\": -6.81971549987793, \"y_axis\": 16.273550033569336, \"name\": \"haj\\u00f3\", \"original\": \"haj\\u00f3\"}, {\"x_axis\": -7.394566535949707, \"y_axis\": 5.987909317016602, \"name\": \"ker\\u00e9kp\\u00e1r\", \"original\": \"ker\\u00e9kp\\u00e1r\"}, {\"x_axis\": 5.127959251403809, \"y_axis\": -0.6583194732666016, \"name\": \"f\\u00e9rfi\", \"original\": \"f\\u00e9rfi\"}, {\"x_axis\": 49.17296600341797, \"y_axis\": 5.45512056350708, \"name\": \"n\\u0151\", \"original\": \"n\\u0151\"}, {\"x_axis\": 15.15626335144043, \"y_axis\": -4.49343729019165, \"name\": \"fi\\u00fa\", \"original\": \"fi\\u00fa\"}, {\"x_axis\": 12.749646186828613, \"y_axis\": -2.238456964492798, \"name\": \"l\\u00e1ny\", \"original\": \"l\\u00e1ny\"}, {\"x_axis\": -6.680379390716553, \"y_axis\": -13.314048767089844, \"name\": \"herceg\", \"original\": \"herceg\"}, {\"x_axis\": -3.291473627090454, \"y_axis\": -10.239598274230957, \"name\": \"hercegn\\u0151\", \"original\": \"hercegn\\u0151\"}, {\"x_axis\": -7.753898620605469, \"y_axis\": -11.554802894592285, \"name\": \"kir\\u00e1ly\", \"original\": \"kir\\u00e1ly\"}, {\"x_axis\": -4.958705902099609, \"y_axis\": -9.104272842407227, \"name\": \"kir\\u00e1lyn\\u0151\", \"original\": \"kir\\u00e1lyn\\u0151\"}, {\"x_axis\": -3.823014259338379, \"y_axis\": -3.1296565532684326, \"name\": \"doktor\", \"original\": \"doktor\"}, {\"x_axis\": 4.617191314697266, \"y_axis\": -4.4680681228637695, \"name\": \"n\\u0151v\\u00e9r\", \"original\": \"n\\u0151v\\u00e9r\"}, {\"x_axis\": -2.844728708267212, \"y_axis\": -4.5086565017700195, \"name\": \"sz\\u00edn\\u00e9sz\", \"original\": \"sz\\u00edn\\u00e9sz\"}, {\"x_axis\": -1.6907566785812378, \"y_axis\": -4.395598411560059, \"name\": \"sz\\u00edn\\u00e9szn\\u0151\", \"original\": \"sz\\u00edn\\u00e9szn\\u0151\"}, {\"x_axis\": -3.450775623321533, \"y_axis\": -1.388677954673767, \"name\": \"feln\\u0151tt\", \"original\": \"feln\\u0151tt\"}], \"data-8e69153462b0d512e6571a8d3774e886\": [{\"x_axis\": -1.9868104457855225, \"y_axis\": 0.06194012984633446, \"name\": \"macska\", \"original\": \"macska\"}, {\"x_axis\": -0.15365386009216309, \"y_axis\": 1.6117594242095947, \"name\": \"kutya\", \"original\": \"kutya\"}, {\"x_axis\": -6.404576778411865, \"y_axis\": -6.402763366699219, \"name\": \"b\\u00e9ka\", \"original\": \"b\\u00e9ka\"}, {\"x_axis\": -6.506100654602051, \"y_axis\": 0.8875642418861389, \"name\": \"dinoszaurusz\", \"original\": \"dinoszaurusz\"}, {\"x_axis\": -6.6988959312438965, \"y_axis\": -1.5036462545394897, \"name\": \"kecske\", \"original\": \"kecske\"}, {\"x_axis\": -4.071254730224609, \"y_axis\": 22.408878326416016, \"name\": \"aut\\u00f3\", \"original\": \"aut\\u00f3\"}, {\"x_axis\": -7.2803449630737305, \"y_axis\": 18.121755599975586, \"name\": \"busz\", \"original\": \"busz\"}, {\"x_axis\": -4.987098693847656, \"y_axis\": -0.008972409181296825, \"name\": \"bicikli\", \"original\": \"bicikli\"}, {\"x_axis\": -8.124288558959961, \"y_axis\": 19.379573822021484, \"name\": \"haj\\u00f3\", \"original\": \"haj\\u00f3\"}, {\"x_axis\": -7.384392738342285, \"y_axis\": 5.794881820678711, \"name\": \"ker\\u00e9kp\\u00e1r\", \"original\": \"ker\\u00e9kp\\u00e1r\"}, {\"x_axis\": 5.940011024475098, \"y_axis\": -0.45576027035713196, \"name\": \"f\\u00e9rfi\", \"original\": \"f\\u00e9rfi\"}, {\"x_axis\": 49.98395538330078, \"y_axis\": 2.8938937187194824, \"name\": \"n\\u0151\", \"original\": \"n\\u0151\"}, {\"x_axis\": 17.05836296081543, \"y_axis\": -3.5765297412872314, \"name\": \"fi\\u00fa\", \"original\": \"fi\\u00fa\"}, {\"x_axis\": 13.860655784606934, \"y_axis\": -1.5934460163116455, \"name\": \"l\\u00e1ny\", \"original\": \"l\\u00e1ny\"}, {\"x_axis\": -8.99038314819336, \"y_axis\": -13.538644790649414, \"name\": \"herceg\", \"original\": \"herceg\"}, {\"x_axis\": -4.187751293182373, \"y_axis\": -10.051350593566895, \"name\": \"hercegn\\u0151\", \"original\": \"hercegn\\u0151\"}, {\"x_axis\": -8.665006637573242, \"y_axis\": -11.692152976989746, \"name\": \"kir\\u00e1ly\", \"original\": \"kir\\u00e1ly\"}, {\"x_axis\": -5.998371601104736, \"y_axis\": -8.527295112609863, \"name\": \"kir\\u00e1lyn\\u0151\", \"original\": \"kir\\u00e1lyn\\u0151\"}, {\"x_axis\": -3.667646646499634, \"y_axis\": -2.3651485443115234, \"name\": \"doktor\", \"original\": \"doktor\"}, {\"x_axis\": 3.5318174362182617, \"y_axis\": -4.690238952636719, \"name\": \"n\\u0151v\\u00e9r\", \"original\": \"n\\u0151v\\u00e9r\"}, {\"x_axis\": -1.8613488674163818, \"y_axis\": -3.029665470123291, \"name\": \"sz\\u00edn\\u00e9sz\", \"original\": \"sz\\u00edn\\u00e9sz\"}, {\"x_axis\": -1.339941382408142, \"y_axis\": -2.945405960083008, \"name\": \"sz\\u00edn\\u00e9szn\\u0151\", \"original\": \"sz\\u00edn\\u00e9szn\\u0151\"}, {\"x_axis\": -2.0669140815734863, \"y_axis\": -0.7792301774024963, \"name\": \"feln\\u0151tt\", \"original\": \"feln\\u0151tt\"}], \"data-40078a2b195d9ae55986f17d910e89dc\": [{\"x_axis\": -3.288801908493042, \"y_axis\": -3.052622079849243, \"name\": \"macska\", \"original\": \"macska\"}, {\"x_axis\": -3.0160157680511475, \"y_axis\": 2.5240020751953125, \"name\": \"kutya\", \"original\": \"kutya\"}, {\"x_axis\": -4.196796417236328, \"y_axis\": -4.428432941436768, \"name\": \"b\\u00e9ka\", \"original\": \"b\\u00e9ka\"}, {\"x_axis\": -8.485763549804688, \"y_axis\": -4.432283401489258, \"name\": \"dinoszaurusz\", \"original\": \"dinoszaurusz\"}, {\"x_axis\": -9.17760944366455, \"y_axis\": -2.920023202896118, \"name\": \"kecske\", \"original\": \"kecske\"}, {\"x_axis\": -14.454561233520508, \"y_axis\": 33.45077133178711, \"name\": \"aut\\u00f3\", \"original\": \"aut\\u00f3\"}, {\"x_axis\": -15.489277839660645, \"y_axis\": 23.195240020751953, \"name\": \"busz\", \"original\": \"busz\"}, {\"x_axis\": -10.212313652038574, \"y_axis\": 6.434146881103516, \"name\": \"bicikli\", \"original\": \"bicikli\"}, {\"x_axis\": -15.84058952331543, \"y_axis\": 19.285627365112305, \"name\": \"haj\\u00f3\", \"original\": \"haj\\u00f3\"}, {\"x_axis\": -14.10249137878418, \"y_axis\": 8.892292976379395, \"name\": \"ker\\u00e9kp\\u00e1r\", \"original\": \"ker\\u00e9kp\\u00e1r\"}, {\"x_axis\": 11.625006675720215, \"y_axis\": -1.4853620529174805, \"name\": \"f\\u00e9rfi\", \"original\": \"f\\u00e9rfi\"}, {\"x_axis\": 73.70629119873047, \"y_axis\": 16.81340789794922, \"name\": \"n\\u0151\", \"original\": \"n\\u0151\"}, {\"x_axis\": 19.14141082763672, \"y_axis\": -7.613730430603027, \"name\": \"fi\\u00fa\", \"original\": \"fi\\u00fa\"}, {\"x_axis\": 16.3060302734375, \"y_axis\": -4.2262773513793945, \"name\": \"l\\u00e1ny\", \"original\": \"l\\u00e1ny\"}, {\"x_axis\": -5.65641975402832, \"y_axis\": -12.76462459564209, \"name\": \"herceg\", \"original\": \"herceg\"}, {\"x_axis\": -2.335515260696411, \"y_axis\": -9.352863311767578, \"name\": \"hercegn\\u0151\", \"original\": \"hercegn\\u0151\"}, {\"x_axis\": -7.806208610534668, \"y_axis\": -13.111459732055664, \"name\": \"kir\\u00e1ly\", \"original\": \"kir\\u00e1ly\"}, {\"x_axis\": -5.513545989990234, \"y_axis\": -10.613224983215332, \"name\": \"kir\\u00e1lyn\\u0151\", \"original\": \"kir\\u00e1lyn\\u0151\"}, {\"x_axis\": -5.47337532043457, \"y_axis\": -8.10147762298584, \"name\": \"doktor\", \"original\": \"doktor\"}, {\"x_axis\": 6.372142791748047, \"y_axis\": -9.556525230407715, \"name\": \"n\\u0151v\\u00e9r\", \"original\": \"n\\u0151v\\u00e9r\"}, {\"x_axis\": -0.5097481608390808, \"y_axis\": -7.811824798583984, \"name\": \"sz\\u00edn\\u00e9sz\", \"original\": \"sz\\u00edn\\u00e9sz\"}, {\"x_axis\": 0.12500450015068054, \"y_axis\": -8.036581039428711, \"name\": \"sz\\u00edn\\u00e9szn\\u0151\", \"original\": \"sz\\u00edn\\u00e9szn\\u0151\"}, {\"x_axis\": -1.7168537378311157, \"y_axis\": -3.0881922245025635, \"name\": \"feln\\u0151tt\", \"original\": \"feln\\u0151tt\"}]}}, {\"mode\": \"vega-lite\"});\n",
       "</script>"
      ],
      "text/plain": [
       "alt.HConcatChart(...)"
      ]
     },
     "execution_count": 11,
     "metadata": {},
     "output_type": "execute_result"
    }
   ],
   "source": [
    "baseline_p | wiki_floret_p | floret_2019_p"
   ]
  },
  {
   "cell_type": "code",
   "execution_count": 12,
   "id": "55ab138d-70d8-46c2-b1d4-2cc201e4640e",
   "metadata": {},
   "outputs": [
    {
     "data": {
      "text/html": [
       "\n",
       "<div id=\"altair-viz-0543bdf085484667aa8bd87f2bb0fb81\"></div>\n",
       "<script type=\"text/javascript\">\n",
       "  var VEGA_DEBUG = (typeof VEGA_DEBUG == \"undefined\") ? {} : VEGA_DEBUG;\n",
       "  (function(spec, embedOpt){\n",
       "    let outputDiv = document.currentScript.previousElementSibling;\n",
       "    if (outputDiv.id !== \"altair-viz-0543bdf085484667aa8bd87f2bb0fb81\") {\n",
       "      outputDiv = document.getElementById(\"altair-viz-0543bdf085484667aa8bd87f2bb0fb81\");\n",
       "    }\n",
       "    const paths = {\n",
       "      \"vega\": \"https://cdn.jsdelivr.net/npm//vega@5?noext\",\n",
       "      \"vega-lib\": \"https://cdn.jsdelivr.net/npm//vega-lib?noext\",\n",
       "      \"vega-lite\": \"https://cdn.jsdelivr.net/npm//vega-lite@4.17.0?noext\",\n",
       "      \"vega-embed\": \"https://cdn.jsdelivr.net/npm//vega-embed@6?noext\",\n",
       "    };\n",
       "\n",
       "    function maybeLoadScript(lib, version) {\n",
       "      var key = `${lib.replace(\"-\", \"\")}_version`;\n",
       "      return (VEGA_DEBUG[key] == version) ?\n",
       "        Promise.resolve(paths[lib]) :\n",
       "        new Promise(function(resolve, reject) {\n",
       "          var s = document.createElement('script');\n",
       "          document.getElementsByTagName(\"head\")[0].appendChild(s);\n",
       "          s.async = true;\n",
       "          s.onload = () => {\n",
       "            VEGA_DEBUG[key] = version;\n",
       "            return resolve(paths[lib]);\n",
       "          };\n",
       "          s.onerror = () => reject(`Error loading script: ${paths[lib]}`);\n",
       "          s.src = paths[lib];\n",
       "        });\n",
       "    }\n",
       "\n",
       "    function showError(err) {\n",
       "      outputDiv.innerHTML = `<div class=\"error\" style=\"color:red;\">${err}</div>`;\n",
       "      throw err;\n",
       "    }\n",
       "\n",
       "    function displayChart(vegaEmbed) {\n",
       "      vegaEmbed(outputDiv, spec, embedOpt)\n",
       "        .catch(err => showError(`Javascript Error: ${err.message}<br>This usually means there's a typo in your chart specification. See the javascript console for the full traceback.`));\n",
       "    }\n",
       "\n",
       "    if(typeof define === \"function\" && define.amd) {\n",
       "      requirejs.config({paths});\n",
       "      require([\"vega-embed\"], displayChart, err => showError(`Error loading script: ${err.message}`));\n",
       "    } else {\n",
       "      maybeLoadScript(\"vega\", \"5\")\n",
       "        .then(() => maybeLoadScript(\"vega-lite\", \"4.17.0\"))\n",
       "        .then(() => maybeLoadScript(\"vega-embed\", \"6\"))\n",
       "        .catch(showError)\n",
       "        .then(() => displayChart(vegaEmbed));\n",
       "    }\n",
       "  })({\"config\": {\"view\": {\"continuousWidth\": 400, \"continuousHeight\": 300}}, \"hconcat\": [{\"layer\": [{\"mark\": {\"type\": \"circle\", \"size\": 60}, \"encoding\": {\"color\": {\"field\": \"\", \"legend\": null, \"type\": \"nominal\"}, \"tooltip\": [{\"field\": \"name\", \"type\": \"nominal\"}, {\"field\": \"original\", \"type\": \"nominal\"}], \"x\": {\"axis\": {\"title\": \"Dimension 0\"}, \"field\": \"x_axis\", \"type\": \"quantitative\"}, \"y\": {\"axis\": {\"title\": \"Dimension 1\"}, \"field\": \"y_axis\", \"type\": \"quantitative\"}}, \"selection\": {\"selector022\": {\"type\": \"interval\", \"bind\": \"scales\", \"encodings\": [\"x\", \"y\"]}}, \"title\": \"\\ud83c\\udf38 2019 100k\"}, {\"mark\": {\"type\": \"text\", \"color\": \"black\", \"dx\": -15, \"dy\": 3}, \"encoding\": {\"text\": {\"field\": \"original\", \"type\": \"nominal\"}, \"x\": {\"field\": \"x_axis\", \"type\": \"quantitative\"}, \"y\": {\"field\": \"y_axis\", \"type\": \"quantitative\"}}}], \"data\": {\"name\": \"data-ef7150b727022a52cf2865caae6c33d1\"}}, {\"layer\": [{\"mark\": {\"type\": \"circle\", \"size\": 60}, \"encoding\": {\"color\": {\"field\": \"\", \"legend\": null, \"type\": \"nominal\"}, \"tooltip\": [{\"field\": \"name\", \"type\": \"nominal\"}, {\"field\": \"original\", \"type\": \"nominal\"}], \"x\": {\"axis\": {\"title\": \"Dimension 0\"}, \"field\": \"x_axis\", \"type\": \"quantitative\"}, \"y\": {\"axis\": {\"title\": \"Dimension 1\"}, \"field\": \"y_axis\", \"type\": \"quantitative\"}}, \"selection\": {\"selector024\": {\"type\": \"interval\", \"bind\": \"scales\", \"encodings\": [\"x\", \"y\"]}}, \"title\": \"\\ud83c\\udf38 2019+wiki 100k\"}, {\"mark\": {\"type\": \"text\", \"color\": \"black\", \"dx\": -15, \"dy\": 3}, \"encoding\": {\"text\": {\"field\": \"original\", \"type\": \"nominal\"}, \"x\": {\"field\": \"x_axis\", \"type\": \"quantitative\"}, \"y\": {\"field\": \"y_axis\", \"type\": \"quantitative\"}}}], \"data\": {\"name\": \"data-77b3c9a01f4015e2e2eb01e09ce0214f\"}}, {\"layer\": [{\"mark\": {\"type\": \"circle\", \"size\": 60}, \"encoding\": {\"color\": {\"field\": \"\", \"legend\": null, \"type\": \"nominal\"}, \"tooltip\": [{\"field\": \"name\", \"type\": \"nominal\"}, {\"field\": \"original\", \"type\": \"nominal\"}], \"x\": {\"axis\": {\"title\": \"Dimension 0\"}, \"field\": \"x_axis\", \"type\": \"quantitative\"}, \"y\": {\"axis\": {\"title\": \"Dimension 1\"}, \"field\": \"y_axis\", \"type\": \"quantitative\"}}, \"selection\": {\"selector014\": {\"type\": \"interval\", \"bind\": \"scales\", \"encodings\": [\"x\", \"y\"]}}, \"title\": \"\\ud83c\\udf38 full\"}, {\"mark\": {\"type\": \"text\", \"color\": \"black\", \"dx\": -15, \"dy\": 3}, \"encoding\": {\"text\": {\"field\": \"original\", \"type\": \"nominal\"}, \"x\": {\"field\": \"x_axis\", \"type\": \"quantitative\"}, \"y\": {\"field\": \"y_axis\", \"type\": \"quantitative\"}}}], \"data\": {\"name\": \"data-90097b1dd7bfb92a6c9be4ab9a3eb9a6\"}}], \"$schema\": \"https://vega.github.io/schema/vega-lite/v4.17.0.json\", \"datasets\": {\"data-ef7150b727022a52cf2865caae6c33d1\": [{\"x_axis\": -3.3363852500915527, \"y_axis\": -2.895646095275879, \"name\": \"macska\", \"original\": \"macska\"}, {\"x_axis\": -2.5929296016693115, \"y_axis\": 1.3697963953018188, \"name\": \"kutya\", \"original\": \"kutya\"}, {\"x_axis\": -2.2626729011535645, \"y_axis\": -2.719536542892456, \"name\": \"b\\u00e9ka\", \"original\": \"b\\u00e9ka\"}, {\"x_axis\": -9.191229820251465, \"y_axis\": -4.285817623138428, \"name\": \"dinoszaurusz\", \"original\": \"dinoszaurusz\"}, {\"x_axis\": -8.523366928100586, \"y_axis\": -2.8721041679382324, \"name\": \"kecske\", \"original\": \"kecske\"}, {\"x_axis\": -13.684581756591797, \"y_axis\": 32.38724899291992, \"name\": \"aut\\u00f3\", \"original\": \"aut\\u00f3\"}, {\"x_axis\": -16.072120666503906, \"y_axis\": 24.88532829284668, \"name\": \"busz\", \"original\": \"busz\"}, {\"x_axis\": -11.85767650604248, \"y_axis\": 6.1741533279418945, \"name\": \"bicikli\", \"original\": \"bicikli\"}, {\"x_axis\": -14.601518630981445, \"y_axis\": 19.2987003326416, \"name\": \"haj\\u00f3\", \"original\": \"haj\\u00f3\"}, {\"x_axis\": -13.494635581970215, \"y_axis\": 9.475781440734863, \"name\": \"ker\\u00e9kp\\u00e1r\", \"original\": \"ker\\u00e9kp\\u00e1r\"}, {\"x_axis\": 10.725213050842285, \"y_axis\": -1.770159363746643, \"name\": \"f\\u00e9rfi\", \"original\": \"f\\u00e9rfi\"}, {\"x_axis\": 72.70172119140625, \"y_axis\": 18.213748931884766, \"name\": \"n\\u0151\", \"original\": \"n\\u0151\"}, {\"x_axis\": 19.764169692993164, \"y_axis\": -9.828704833984375, \"name\": \"fi\\u00fa\", \"original\": \"fi\\u00fa\"}, {\"x_axis\": 15.869600296020508, \"y_axis\": -5.760562896728516, \"name\": \"l\\u00e1ny\", \"original\": \"l\\u00e1ny\"}, {\"x_axis\": -5.705259799957275, \"y_axis\": -11.998202323913574, \"name\": \"herceg\", \"original\": \"herceg\"}, {\"x_axis\": -3.0245118141174316, \"y_axis\": -9.532320022583008, \"name\": \"hercegn\\u0151\", \"original\": \"hercegn\\u0151\"}, {\"x_axis\": -7.1152873039245605, \"y_axis\": -11.867892265319824, \"name\": \"kir\\u00e1ly\", \"original\": \"kir\\u00e1ly\"}, {\"x_axis\": -4.917755603790283, \"y_axis\": -10.106389999389648, \"name\": \"kir\\u00e1lyn\\u0151\", \"original\": \"kir\\u00e1lyn\\u0151\"}, {\"x_axis\": -5.420884609222412, \"y_axis\": -8.32142162322998, \"name\": \"doktor\", \"original\": \"doktor\"}, {\"x_axis\": 5.731503486633301, \"y_axis\": -10.402325630187988, \"name\": \"n\\u0151v\\u00e9r\", \"original\": \"n\\u0151v\\u00e9r\"}, {\"x_axis\": -0.5157048106193542, \"y_axis\": -7.703290939331055, \"name\": \"sz\\u00edn\\u00e9sz\", \"original\": \"sz\\u00edn\\u00e9sz\"}, {\"x_axis\": -0.09357700496912003, \"y_axis\": -8.068742752075195, \"name\": \"sz\\u00edn\\u00e9szn\\u0151\", \"original\": \"sz\\u00edn\\u00e9szn\\u0151\"}, {\"x_axis\": -2.38212513923645, \"y_axis\": -3.6716361045837402, \"name\": \"feln\\u0151tt\", \"original\": \"feln\\u0151tt\"}], \"data-77b3c9a01f4015e2e2eb01e09ce0214f\": [{\"x_axis\": -3.3796067237854004, \"y_axis\": -2.272437334060669, \"name\": \"macska\", \"original\": \"macska\"}, {\"x_axis\": -2.7224972248077393, \"y_axis\": 2.2466354370117188, \"name\": \"kutya\", \"original\": \"kutya\"}, {\"x_axis\": -3.0047450065612793, \"y_axis\": -3.8451550006866455, \"name\": \"b\\u00e9ka\", \"original\": \"b\\u00e9ka\"}, {\"x_axis\": -9.503498077392578, \"y_axis\": -3.759000778198242, \"name\": \"dinoszaurusz\", \"original\": \"dinoszaurusz\"}, {\"x_axis\": -9.146245002746582, \"y_axis\": -2.6032650470733643, \"name\": \"kecske\", \"original\": \"kecske\"}, {\"x_axis\": -12.988353729248047, \"y_axis\": 32.97483444213867, \"name\": \"aut\\u00f3\", \"original\": \"aut\\u00f3\"}, {\"x_axis\": -14.08712100982666, \"y_axis\": 24.18967056274414, \"name\": \"busz\", \"original\": \"busz\"}, {\"x_axis\": -12.099360466003418, \"y_axis\": 7.155109405517578, \"name\": \"bicikli\", \"original\": \"bicikli\"}, {\"x_axis\": -13.800481796264648, \"y_axis\": 19.288114547729492, \"name\": \"haj\\u00f3\", \"original\": \"haj\\u00f3\"}, {\"x_axis\": -13.283561706542969, \"y_axis\": 10.001012802124023, \"name\": \"ker\\u00e9kp\\u00e1r\", \"original\": \"ker\\u00e9kp\\u00e1r\"}, {\"x_axis\": 10.53189468383789, \"y_axis\": -1.7656784057617188, \"name\": \"f\\u00e9rfi\", \"original\": \"f\\u00e9rfi\"}, {\"x_axis\": 73.32946014404297, \"y_axis\": 16.579984664916992, \"name\": \"n\\u0151\", \"original\": \"n\\u0151\"}, {\"x_axis\": 20.46210289001465, \"y_axis\": -9.76534366607666, \"name\": \"fi\\u00fa\", \"original\": \"fi\\u00fa\"}, {\"x_axis\": 17.135345458984375, \"y_axis\": -5.264074802398682, \"name\": \"l\\u00e1ny\", \"original\": \"l\\u00e1ny\"}, {\"x_axis\": -6.269481658935547, \"y_axis\": -12.615141868591309, \"name\": \"herceg\", \"original\": \"herceg\"}, {\"x_axis\": -3.3664186000823975, \"y_axis\": -10.289618492126465, \"name\": \"hercegn\\u0151\", \"original\": \"hercegn\\u0151\"}, {\"x_axis\": -7.805742263793945, \"y_axis\": -12.14303207397461, \"name\": \"kir\\u00e1ly\", \"original\": \"kir\\u00e1ly\"}, {\"x_axis\": -5.669416427612305, \"y_axis\": -10.20055103302002, \"name\": \"kir\\u00e1lyn\\u0151\", \"original\": \"kir\\u00e1lyn\\u0151\"}, {\"x_axis\": -6.094287395477295, \"y_axis\": -7.58896017074585, \"name\": \"doktor\", \"original\": \"doktor\"}, {\"x_axis\": 5.6470208168029785, \"y_axis\": -10.228814125061035, \"name\": \"n\\u0151v\\u00e9r\", \"original\": \"n\\u0151v\\u00e9r\"}, {\"x_axis\": -0.764538586139679, \"y_axis\": -8.666781425476074, \"name\": \"sz\\u00edn\\u00e9sz\", \"original\": \"sz\\u00edn\\u00e9sz\"}, {\"x_axis\": -0.7313641309738159, \"y_axis\": -8.40965747833252, \"name\": \"sz\\u00edn\\u00e9szn\\u0151\", \"original\": \"sz\\u00edn\\u00e9szn\\u0151\"}, {\"x_axis\": -2.389091730117798, \"y_axis\": -3.0178475379943848, \"name\": \"feln\\u0151tt\", \"original\": \"feln\\u0151tt\"}], \"data-90097b1dd7bfb92a6c9be4ab9a3eb9a6\": [{\"x_axis\": -273299221250048.0, \"y_axis\": -343630736785408.0, \"name\": \"macska\", \"original\": \"macska\"}, {\"x_axis\": -249847928061952.0, \"y_axis\": -31635057672192.0, \"name\": \"kutya\", \"original\": \"kutya\"}, {\"x_axis\": -247262559076352.0, \"y_axis\": -537620450902016.0, \"name\": \"b\\u00e9ka\", \"original\": \"b\\u00e9ka\"}, {\"x_axis\": -655023113502720.0, \"y_axis\": -375196733145088.0, \"name\": \"dinoszaurusz\", \"original\": \"dinoszaurusz\"}, {\"x_axis\": -467170068791296.0, \"y_axis\": -485637622857728.0, \"name\": \"kecske\", \"original\": \"kecske\"}, {\"x_axis\": -597356533776384.0, \"y_axis\": 1697918146838528.0, \"name\": \"aut\\u00f3\", \"original\": \"aut\\u00f3\"}, {\"x_axis\": -668185644761088.0, \"y_axis\": 1740679780761600.0, \"name\": \"busz\", \"original\": \"busz\"}, {\"x_axis\": -925064216182784.0, \"y_axis\": 391510260449280.0, \"name\": \"bicikli\", \"original\": \"bicikli\"}, {\"x_axis\": -1208948870873088.0, \"y_axis\": 3442702439940096.0, \"name\": \"haj\\u00f3\", \"original\": \"haj\\u00f3\"}, {\"x_axis\": -928863584518144.0, \"y_axis\": 281639393427456.0, \"name\": \"ker\\u00e9kp\\u00e1r\", \"original\": \"ker\\u00e9kp\\u00e1r\"}, {\"x_axis\": 485500016132096.0, \"y_axis\": -134924812156928.0, \"name\": \"f\\u00e9rfi\", \"original\": \"f\\u00e9rfi\"}, {\"x_axis\": 7593998248050688.0, \"y_axis\": 616429141360640.0, \"name\": \"n\\u0151\", \"original\": \"n\\u0151\"}, {\"x_axis\": 1047965108011008.0, \"y_axis\": -290923200118784.0, \"name\": \"fi\\u00fa\", \"original\": \"fi\\u00fa\"}, {\"x_axis\": 577574048628736.0, \"y_axis\": -261841372577792.0, \"name\": \"l\\u00e1ny\", \"original\": \"l\\u00e1ny\"}, {\"x_axis\": -707841816002560.0, \"y_axis\": -563154434129920.0, \"name\": \"herceg\", \"original\": \"herceg\"}, {\"x_axis\": -448522897850368.0, \"y_axis\": -776506464796672.0, \"name\": \"hercegn\\u0151\", \"original\": \"hercegn\\u0151\"}, {\"x_axis\": -678375723106304.0, \"y_axis\": -493125596348416.0, \"name\": \"kir\\u00e1ly\", \"original\": \"kir\\u00e1ly\"}, {\"x_axis\": -633834697654272.0, \"y_axis\": -692738697723904.0, \"name\": \"kir\\u00e1lyn\\u0151\", \"original\": \"kir\\u00e1lyn\\u0151\"}, {\"x_axis\": -447100055715840.0, \"y_axis\": -831745247150080.0, \"name\": \"doktor\", \"original\": \"doktor\"}, {\"x_axis\": 382165653127168.0, \"y_axis\": -735913990684672.0, \"name\": \"n\\u0151v\\u00e9r\", \"original\": \"n\\u0151v\\u00e9r\"}, {\"x_axis\": -167319594598400.0, \"y_axis\": -551785219489792.0, \"name\": \"sz\\u00edn\\u00e9sz\", \"original\": \"sz\\u00edn\\u00e9sz\"}, {\"x_axis\": -234873407143936.0, \"y_axis\": -609120314982400.0, \"name\": \"sz\\u00edn\\u00e9szn\\u0151\", \"original\": \"sz\\u00edn\\u00e9szn\\u0151\"}, {\"x_axis\": -548312033787904.0, \"y_axis\": -455377564991488.0, \"name\": \"feln\\u0151tt\", \"original\": \"feln\\u0151tt\"}]}}, {\"mode\": \"vega-lite\"});\n",
       "</script>"
      ],
      "text/plain": [
       "alt.HConcatChart(...)"
      ]
     },
     "execution_count": 12,
     "metadata": {},
     "output_type": "execute_result"
    }
   ],
   "source": [
    "floret_2019_100k_p | floret_2019_wiki_100k_p | full_floret_p"
   ]
  },
  {
   "cell_type": "code",
   "execution_count": 13,
   "id": "8b5e1076-0792-4c1d-811d-f0894dcc92c4",
   "metadata": {},
   "outputs": [
    {
     "data": {
      "text/html": [
       "\n",
       "<div id=\"altair-viz-714e76b19b3b468aa8700cf0400085cb\"></div>\n",
       "<script type=\"text/javascript\">\n",
       "  var VEGA_DEBUG = (typeof VEGA_DEBUG == \"undefined\") ? {} : VEGA_DEBUG;\n",
       "  (function(spec, embedOpt){\n",
       "    let outputDiv = document.currentScript.previousElementSibling;\n",
       "    if (outputDiv.id !== \"altair-viz-714e76b19b3b468aa8700cf0400085cb\") {\n",
       "      outputDiv = document.getElementById(\"altair-viz-714e76b19b3b468aa8700cf0400085cb\");\n",
       "    }\n",
       "    const paths = {\n",
       "      \"vega\": \"https://cdn.jsdelivr.net/npm//vega@5?noext\",\n",
       "      \"vega-lib\": \"https://cdn.jsdelivr.net/npm//vega-lib?noext\",\n",
       "      \"vega-lite\": \"https://cdn.jsdelivr.net/npm//vega-lite@4.17.0?noext\",\n",
       "      \"vega-embed\": \"https://cdn.jsdelivr.net/npm//vega-embed@6?noext\",\n",
       "    };\n",
       "\n",
       "    function maybeLoadScript(lib, version) {\n",
       "      var key = `${lib.replace(\"-\", \"\")}_version`;\n",
       "      return (VEGA_DEBUG[key] == version) ?\n",
       "        Promise.resolve(paths[lib]) :\n",
       "        new Promise(function(resolve, reject) {\n",
       "          var s = document.createElement('script');\n",
       "          document.getElementsByTagName(\"head\")[0].appendChild(s);\n",
       "          s.async = true;\n",
       "          s.onload = () => {\n",
       "            VEGA_DEBUG[key] = version;\n",
       "            return resolve(paths[lib]);\n",
       "          };\n",
       "          s.onerror = () => reject(`Error loading script: ${paths[lib]}`);\n",
       "          s.src = paths[lib];\n",
       "        });\n",
       "    }\n",
       "\n",
       "    function showError(err) {\n",
       "      outputDiv.innerHTML = `<div class=\"error\" style=\"color:red;\">${err}</div>`;\n",
       "      throw err;\n",
       "    }\n",
       "\n",
       "    function displayChart(vegaEmbed) {\n",
       "      vegaEmbed(outputDiv, spec, embedOpt)\n",
       "        .catch(err => showError(`Javascript Error: ${err.message}<br>This usually means there's a typo in your chart specification. See the javascript console for the full traceback.`));\n",
       "    }\n",
       "\n",
       "    if(typeof define === \"function\" && define.amd) {\n",
       "      requirejs.config({paths});\n",
       "      require([\"vega-embed\"], displayChart, err => showError(`Error loading script: ${err.message}`));\n",
       "    } else {\n",
       "      maybeLoadScript(\"vega\", \"5\")\n",
       "        .then(() => maybeLoadScript(\"vega-lite\", \"4.17.0\"))\n",
       "        .then(() => maybeLoadScript(\"vega-embed\", \"6\"))\n",
       "        .catch(showError)\n",
       "        .then(() => displayChart(vegaEmbed));\n",
       "    }\n",
       "  })({\"config\": {\"view\": {\"continuousWidth\": 400, \"continuousHeight\": 300}}, \"hconcat\": [{\"layer\": [{\"mark\": {\"type\": \"circle\", \"size\": 60}, \"encoding\": {\"color\": {\"field\": \"\", \"legend\": null, \"type\": \"nominal\"}, \"tooltip\": [{\"field\": \"name\", \"type\": \"nominal\"}, {\"field\": \"original\", \"type\": \"nominal\"}], \"x\": {\"axis\": {\"title\": \"Dimension 0\"}, \"field\": \"x_axis\", \"type\": \"quantitative\"}, \"y\": {\"axis\": {\"title\": \"Dimension 1\"}, \"field\": \"y_axis\", \"type\": \"quantitative\"}}, \"selection\": {\"selector025\": {\"type\": \"interval\", \"bind\": \"scales\", \"encodings\": [\"x\", \"y\"]}}, \"title\": \"\\ud83c\\udf38 2019+wiki 150k\"}, {\"mark\": {\"type\": \"text\", \"color\": \"black\", \"dx\": -15, \"dy\": 3}, \"encoding\": {\"text\": {\"field\": \"original\", \"type\": \"nominal\"}, \"x\": {\"field\": \"x_axis\", \"type\": \"quantitative\"}, \"y\": {\"field\": \"y_axis\", \"type\": \"quantitative\"}}}], \"data\": {\"name\": \"data-5b021e179031999fa31c6c456d7dcbd0\"}}, {\"layer\": [{\"mark\": {\"type\": \"circle\", \"size\": 60}, \"encoding\": {\"color\": {\"field\": \"\", \"legend\": null, \"type\": \"nominal\"}, \"tooltip\": [{\"field\": \"name\", \"type\": \"nominal\"}, {\"field\": \"original\", \"type\": \"nominal\"}], \"x\": {\"axis\": {\"title\": \"Dimension 0\"}, \"field\": \"x_axis\", \"type\": \"quantitative\"}, \"y\": {\"axis\": {\"title\": \"Dimension 1\"}, \"field\": \"y_axis\", \"type\": \"quantitative\"}}, \"selection\": {\"selector027\": {\"type\": \"interval\", \"bind\": \"scales\", \"encodings\": [\"x\", \"y\"]}}, \"title\": \"\\ud83c\\udf38 ner 2019+wiki 150k\"}, {\"mark\": {\"type\": \"text\", \"color\": \"black\", \"dx\": -15, \"dy\": 3}, \"encoding\": {\"text\": {\"field\": \"original\", \"type\": \"nominal\"}, \"x\": {\"field\": \"x_axis\", \"type\": \"quantitative\"}, \"y\": {\"field\": \"y_axis\", \"type\": \"quantitative\"}}}], \"data\": {\"name\": \"data-3a8ec4924e41018cce0251257f41081f\"}}], \"$schema\": \"https://vega.github.io/schema/vega-lite/v4.17.0.json\", \"datasets\": {\"data-5b021e179031999fa31c6c456d7dcbd0\": [{\"x_axis\": 0.3384544849395752, \"y_axis\": 16.045515060424805, \"name\": \"macska\", \"original\": \"macska\"}, {\"x_axis\": -0.17614004015922546, \"y_axis\": 15.121681213378906, \"name\": \"kutya\", \"original\": \"kutya\"}, {\"x_axis\": 0.0589318573474884, \"y_axis\": 15.709299087524414, \"name\": \"b\\u00e9ka\", \"original\": \"b\\u00e9ka\"}, {\"x_axis\": -0.558497428894043, \"y_axis\": 15.792479515075684, \"name\": \"dinoszaurusz\", \"original\": \"dinoszaurusz\"}, {\"x_axis\": -0.28814321756362915, \"y_axis\": 16.232833862304688, \"name\": \"kecske\", \"original\": \"kecske\"}, {\"x_axis\": -1.9038002490997314, \"y_axis\": 14.575679779052734, \"name\": \"aut\\u00f3\", \"original\": \"aut\\u00f3\"}, {\"x_axis\": -1.3702709674835205, \"y_axis\": 14.378795623779297, \"name\": \"busz\", \"original\": \"busz\"}, {\"x_axis\": -0.9953498244285583, \"y_axis\": 14.981067657470703, \"name\": \"bicikli\", \"original\": \"bicikli\"}, {\"x_axis\": -1.6537244319915771, \"y_axis\": 15.24618911743164, \"name\": \"haj\\u00f3\", \"original\": \"haj\\u00f3\"}, {\"x_axis\": -2.0784151554107666, \"y_axis\": 14.95981502532959, \"name\": \"ker\\u00e9kp\\u00e1r\", \"original\": \"ker\\u00e9kp\\u00e1r\"}, {\"x_axis\": -1.197646141052246, \"y_axis\": 17.351909637451172, \"name\": \"f\\u00e9rfi\", \"original\": \"f\\u00e9rfi\"}, {\"x_axis\": -1.3991395235061646, \"y_axis\": 17.86064338684082, \"name\": \"n\\u0151\", \"original\": \"n\\u0151\"}, {\"x_axis\": -1.9884940385818481, \"y_axis\": 17.427221298217773, \"name\": \"fi\\u00fa\", \"original\": \"fi\\u00fa\"}, {\"x_axis\": -1.782500982284546, \"y_axis\": 17.717243194580078, \"name\": \"l\\u00e1ny\", \"original\": \"l\\u00e1ny\"}, {\"x_axis\": -1.7416229248046875, \"y_axis\": 16.32927703857422, \"name\": \"herceg\", \"original\": \"herceg\"}, {\"x_axis\": -1.159671664237976, \"y_axis\": 16.148876190185547, \"name\": \"hercegn\\u0151\", \"original\": \"hercegn\\u0151\"}, {\"x_axis\": -1.669679045677185, \"y_axis\": 16.43194007873535, \"name\": \"kir\\u00e1ly\", \"original\": \"kir\\u00e1ly\"}, {\"x_axis\": -1.8061366081237793, \"y_axis\": 15.915177345275879, \"name\": \"kir\\u00e1lyn\\u0151\", \"original\": \"kir\\u00e1lyn\\u0151\"}, {\"x_axis\": 0.052212800830602646, \"y_axis\": 17.421367645263672, \"name\": \"doktor\", \"original\": \"doktor\"}, {\"x_axis\": -0.6067943572998047, \"y_axis\": 17.396814346313477, \"name\": \"n\\u0151v\\u00e9r\", \"original\": \"n\\u0151v\\u00e9r\"}, {\"x_axis\": 0.11539890617132187, \"y_axis\": 16.896448135375977, \"name\": \"sz\\u00edn\\u00e9sz\", \"original\": \"sz\\u00edn\\u00e9sz\"}, {\"x_axis\": -0.4779379665851593, \"y_axis\": 17.848922729492188, \"name\": \"sz\\u00edn\\u00e9szn\\u0151\", \"original\": \"sz\\u00edn\\u00e9szn\\u0151\"}, {\"x_axis\": -0.5801562666893005, \"y_axis\": 16.664318084716797, \"name\": \"feln\\u0151tt\", \"original\": \"feln\\u0151tt\"}], \"data-3a8ec4924e41018cce0251257f41081f\": [{\"x_axis\": -13.210047721862793, \"y_axis\": 0.7428034543991089, \"name\": \"macska\", \"original\": \"macska\"}, {\"x_axis\": -13.819664001464844, \"y_axis\": 0.2997033894062042, \"name\": \"kutya\", \"original\": \"kutya\"}, {\"x_axis\": -12.849394798278809, \"y_axis\": 0.34121811389923096, \"name\": \"b\\u00e9ka\", \"original\": \"b\\u00e9ka\"}, {\"x_axis\": -13.128436088562012, \"y_axis\": -0.38750070333480835, \"name\": \"dinoszaurusz\", \"original\": \"dinoszaurusz\"}, {\"x_axis\": -13.208958625793457, \"y_axis\": 0.09125886857509613, \"name\": \"kecske\", \"original\": \"kecske\"}, {\"x_axis\": -11.282066345214844, \"y_axis\": -0.5739048719406128, \"name\": \"aut\\u00f3\", \"original\": \"aut\\u00f3\"}, {\"x_axis\": -11.964625358581543, \"y_axis\": -0.14890658855438232, \"name\": \"busz\", \"original\": \"busz\"}, {\"x_axis\": -12.074691772460938, \"y_axis\": 0.45933011174201965, \"name\": \"bicikli\", \"original\": \"bicikli\"}, {\"x_axis\": -11.430183410644531, \"y_axis\": -0.08599073439836502, \"name\": \"haj\\u00f3\", \"original\": \"haj\\u00f3\"}, {\"x_axis\": -11.75255298614502, \"y_axis\": -0.731277346611023, \"name\": \"ker\\u00e9kp\\u00e1r\", \"original\": \"ker\\u00e9kp\\u00e1r\"}, {\"x_axis\": -13.914058685302734, \"y_axis\": -1.644903302192688, \"name\": \"f\\u00e9rfi\", \"original\": \"f\\u00e9rfi\"}, {\"x_axis\": -14.525239944458008, \"y_axis\": -1.56050443649292, \"name\": \"n\\u0151\", \"original\": \"n\\u0151\"}, {\"x_axis\": -14.360067367553711, \"y_axis\": -2.580423355102539, \"name\": \"fi\\u00fa\", \"original\": \"fi\\u00fa\"}, {\"x_axis\": -14.405439376831055, \"y_axis\": -2.0724146366119385, \"name\": \"l\\u00e1ny\", \"original\": \"l\\u00e1ny\"}, {\"x_axis\": -12.707527160644531, \"y_axis\": -1.1731839179992676, \"name\": \"herceg\", \"original\": \"herceg\"}, {\"x_axis\": -12.327377319335938, \"y_axis\": -1.6759504079818726, \"name\": \"hercegn\\u0151\", \"original\": \"hercegn\\u0151\"}, {\"x_axis\": -12.237305641174316, \"y_axis\": -1.0228909254074097, \"name\": \"kir\\u00e1ly\", \"original\": \"kir\\u00e1ly\"}, {\"x_axis\": -12.556921005249023, \"y_axis\": -0.7191126346588135, \"name\": \"kir\\u00e1lyn\\u0151\", \"original\": \"kir\\u00e1lyn\\u0151\"}, {\"x_axis\": -12.882051467895508, \"y_axis\": -2.1401634216308594, \"name\": \"doktor\", \"original\": \"doktor\"}, {\"x_axis\": -13.419295310974121, \"y_axis\": -2.341064214706421, \"name\": \"n\\u0151v\\u00e9r\", \"original\": \"n\\u0151v\\u00e9r\"}, {\"x_axis\": -13.608240127563477, \"y_axis\": -1.1243321895599365, \"name\": \"sz\\u00edn\\u00e9sz\", \"original\": \"sz\\u00edn\\u00e9sz\"}, {\"x_axis\": -13.289374351501465, \"y_axis\": -1.644048810005188, \"name\": \"sz\\u00edn\\u00e9szn\\u0151\", \"original\": \"sz\\u00edn\\u00e9szn\\u0151\"}, {\"x_axis\": -13.741217613220215, \"y_axis\": -0.5827356576919556, \"name\": \"feln\\u0151tt\", \"original\": \"feln\\u0151tt\"}]}}, {\"mode\": \"vega-lite\"});\n",
       "</script>"
      ],
      "text/plain": [
       "alt.HConcatChart(...)"
      ]
     },
     "execution_count": 13,
     "metadata": {},
     "output_type": "execute_result"
    }
   ],
   "source": [
    "floret_2019_wiki_150k_u | floret_ner_2019_wiki_150k_u"
   ]
  },
  {
   "cell_type": "code",
   "execution_count": 14,
   "id": "0c69958f-a4b9-4de2-bc56-39546d2d23bf",
   "metadata": {},
   "outputs": [
    {
     "data": {
      "text/html": [
       "\n",
       "<div id=\"altair-viz-92f2c99532634aff9efdecef1501c91e\"></div>\n",
       "<script type=\"text/javascript\">\n",
       "  var VEGA_DEBUG = (typeof VEGA_DEBUG == \"undefined\") ? {} : VEGA_DEBUG;\n",
       "  (function(spec, embedOpt){\n",
       "    let outputDiv = document.currentScript.previousElementSibling;\n",
       "    if (outputDiv.id !== \"altair-viz-92f2c99532634aff9efdecef1501c91e\") {\n",
       "      outputDiv = document.getElementById(\"altair-viz-92f2c99532634aff9efdecef1501c91e\");\n",
       "    }\n",
       "    const paths = {\n",
       "      \"vega\": \"https://cdn.jsdelivr.net/npm//vega@5?noext\",\n",
       "      \"vega-lib\": \"https://cdn.jsdelivr.net/npm//vega-lib?noext\",\n",
       "      \"vega-lite\": \"https://cdn.jsdelivr.net/npm//vega-lite@4.17.0?noext\",\n",
       "      \"vega-embed\": \"https://cdn.jsdelivr.net/npm//vega-embed@6?noext\",\n",
       "    };\n",
       "\n",
       "    function maybeLoadScript(lib, version) {\n",
       "      var key = `${lib.replace(\"-\", \"\")}_version`;\n",
       "      return (VEGA_DEBUG[key] == version) ?\n",
       "        Promise.resolve(paths[lib]) :\n",
       "        new Promise(function(resolve, reject) {\n",
       "          var s = document.createElement('script');\n",
       "          document.getElementsByTagName(\"head\")[0].appendChild(s);\n",
       "          s.async = true;\n",
       "          s.onload = () => {\n",
       "            VEGA_DEBUG[key] = version;\n",
       "            return resolve(paths[lib]);\n",
       "          };\n",
       "          s.onerror = () => reject(`Error loading script: ${paths[lib]}`);\n",
       "          s.src = paths[lib];\n",
       "        });\n",
       "    }\n",
       "\n",
       "    function showError(err) {\n",
       "      outputDiv.innerHTML = `<div class=\"error\" style=\"color:red;\">${err}</div>`;\n",
       "      throw err;\n",
       "    }\n",
       "\n",
       "    function displayChart(vegaEmbed) {\n",
       "      vegaEmbed(outputDiv, spec, embedOpt)\n",
       "        .catch(err => showError(`Javascript Error: ${err.message}<br>This usually means there's a typo in your chart specification. See the javascript console for the full traceback.`));\n",
       "    }\n",
       "\n",
       "    if(typeof define === \"function\" && define.amd) {\n",
       "      requirejs.config({paths});\n",
       "      require([\"vega-embed\"], displayChart, err => showError(`Error loading script: ${err.message}`));\n",
       "    } else {\n",
       "      maybeLoadScript(\"vega\", \"5\")\n",
       "        .then(() => maybeLoadScript(\"vega-lite\", \"4.17.0\"))\n",
       "        .then(() => maybeLoadScript(\"vega-embed\", \"6\"))\n",
       "        .catch(showError)\n",
       "        .then(() => displayChart(vegaEmbed));\n",
       "    }\n",
       "  })({\"config\": {\"view\": {\"continuousWidth\": 400, \"continuousHeight\": 300}}, \"hconcat\": [{\"layer\": [{\"mark\": {\"type\": \"circle\", \"size\": 60}, \"encoding\": {\"color\": {\"field\": \"\", \"legend\": null, \"type\": \"nominal\"}, \"tooltip\": [{\"field\": \"name\", \"type\": \"nominal\"}, {\"field\": \"original\", \"type\": \"nominal\"}], \"x\": {\"axis\": {\"title\": \"Dimension 0\"}, \"field\": \"x_axis\", \"type\": \"quantitative\"}, \"y\": {\"axis\": {\"title\": \"Dimension 1\"}, \"field\": \"y_axis\", \"type\": \"quantitative\"}}, \"selection\": {\"selector026\": {\"type\": \"interval\", \"bind\": \"scales\", \"encodings\": [\"x\", \"y\"]}}, \"title\": \"\\ud83c\\udf38 2019+wiki 150k\"}, {\"mark\": {\"type\": \"text\", \"color\": \"black\", \"dx\": -15, \"dy\": 3}, \"encoding\": {\"text\": {\"field\": \"original\", \"type\": \"nominal\"}, \"x\": {\"field\": \"x_axis\", \"type\": \"quantitative\"}, \"y\": {\"field\": \"y_axis\", \"type\": \"quantitative\"}}}], \"data\": {\"name\": \"data-e57e3f02ce8e5b12304e37e445669f47\"}}, {\"layer\": [{\"mark\": {\"type\": \"circle\", \"size\": 60}, \"encoding\": {\"color\": {\"field\": \"\", \"legend\": null, \"type\": \"nominal\"}, \"tooltip\": [{\"field\": \"name\", \"type\": \"nominal\"}, {\"field\": \"original\", \"type\": \"nominal\"}], \"x\": {\"axis\": {\"title\": \"Dimension 0\"}, \"field\": \"x_axis\", \"type\": \"quantitative\"}, \"y\": {\"axis\": {\"title\": \"Dimension 1\"}, \"field\": \"y_axis\", \"type\": \"quantitative\"}}, \"selection\": {\"selector028\": {\"type\": \"interval\", \"bind\": \"scales\", \"encodings\": [\"x\", \"y\"]}}, \"title\": \"\\ud83c\\udf38 ner 2019+wiki 150k\"}, {\"mark\": {\"type\": \"text\", \"color\": \"black\", \"dx\": -15, \"dy\": 3}, \"encoding\": {\"text\": {\"field\": \"original\", \"type\": \"nominal\"}, \"x\": {\"field\": \"x_axis\", \"type\": \"quantitative\"}, \"y\": {\"field\": \"y_axis\", \"type\": \"quantitative\"}}}], \"data\": {\"name\": \"data-e57e3f02ce8e5b12304e37e445669f47\"}}], \"$schema\": \"https://vega.github.io/schema/vega-lite/v4.17.0.json\", \"datasets\": {\"data-e57e3f02ce8e5b12304e37e445669f47\": [{\"x_axis\": -2.998913288116455, \"y_axis\": -2.817394971847534, \"name\": \"macska\", \"original\": \"macska\"}, {\"x_axis\": -2.0489418506622314, \"y_axis\": 1.328079342842102, \"name\": \"kutya\", \"original\": \"kutya\"}, {\"x_axis\": -2.831037759780884, \"y_axis\": -2.8688673973083496, \"name\": \"b\\u00e9ka\", \"original\": \"b\\u00e9ka\"}, {\"x_axis\": -9.459814071655273, \"y_axis\": -3.8560054302215576, \"name\": \"dinoszaurusz\", \"original\": \"dinoszaurusz\"}, {\"x_axis\": -7.668567657470703, \"y_axis\": -3.621027708053589, \"name\": \"kecske\", \"original\": \"kecske\"}, {\"x_axis\": -11.878312110900879, \"y_axis\": 32.10625076293945, \"name\": \"aut\\u00f3\", \"original\": \"aut\\u00f3\"}, {\"x_axis\": -14.20020866394043, \"y_axis\": 24.279420852661133, \"name\": \"busz\", \"original\": \"busz\"}, {\"x_axis\": -12.373042106628418, \"y_axis\": 7.312159538269043, \"name\": \"bicikli\", \"original\": \"bicikli\"}, {\"x_axis\": -12.52968692779541, \"y_axis\": 21.24549674987793, \"name\": \"haj\\u00f3\", \"original\": \"haj\\u00f3\"}, {\"x_axis\": -13.935651779174805, \"y_axis\": 9.34316635131836, \"name\": \"ker\\u00e9kp\\u00e1r\", \"original\": \"ker\\u00e9kp\\u00e1r\"}, {\"x_axis\": 10.125580787658691, \"y_axis\": -1.971615195274353, \"name\": \"f\\u00e9rfi\", \"original\": \"f\\u00e9rfi\"}, {\"x_axis\": 73.64446258544922, \"y_axis\": 15.838945388793945, \"name\": \"n\\u0151\", \"original\": \"n\\u0151\"}, {\"x_axis\": 20.42142105102539, \"y_axis\": -10.113593101501465, \"name\": \"fi\\u00fa\", \"original\": \"fi\\u00fa\"}, {\"x_axis\": 16.57041358947754, \"y_axis\": -5.242660045623779, \"name\": \"l\\u00e1ny\", \"original\": \"l\\u00e1ny\"}, {\"x_axis\": -5.646688461303711, \"y_axis\": -11.215380668640137, \"name\": \"herceg\", \"original\": \"herceg\"}, {\"x_axis\": -3.6742820739746094, \"y_axis\": -9.676423072814941, \"name\": \"hercegn\\u0151\", \"original\": \"hercegn\\u0151\"}, {\"x_axis\": -7.6868438720703125, \"y_axis\": -10.87507438659668, \"name\": \"kir\\u00e1ly\", \"original\": \"kir\\u00e1ly\"}, {\"x_axis\": -5.276112079620361, \"y_axis\": -9.412216186523438, \"name\": \"kir\\u00e1lyn\\u0151\", \"original\": \"kir\\u00e1lyn\\u0151\"}, {\"x_axis\": -6.580785751342773, \"y_axis\": -8.174530982971191, \"name\": \"doktor\", \"original\": \"doktor\"}, {\"x_axis\": 3.8847928047180176, \"y_axis\": -10.499958038330078, \"name\": \"n\\u0151v\\u00e9r\", \"original\": \"n\\u0151v\\u00e9r\"}, {\"x_axis\": -1.505458950996399, \"y_axis\": -9.01501178741455, \"name\": \"sz\\u00edn\\u00e9sz\", \"original\": \"sz\\u00edn\\u00e9sz\"}, {\"x_axis\": -1.5524190664291382, \"y_axis\": -8.606135368347168, \"name\": \"sz\\u00edn\\u00e9szn\\u0151\", \"original\": \"sz\\u00edn\\u00e9szn\\u0151\"}, {\"x_axis\": -2.799889087677002, \"y_axis\": -3.487616539001465, \"name\": \"feln\\u0151tt\", \"original\": \"feln\\u0151tt\"}]}}, {\"mode\": \"vega-lite\"});\n",
       "</script>"
      ],
      "text/plain": [
       "alt.HConcatChart(...)"
      ]
     },
     "execution_count": 14,
     "metadata": {},
     "output_type": "execute_result"
    }
   ],
   "source": [
    "floret_2019_wiki_150k_p | floret_ner_2019_wiki_150k_p"
   ]
  }
 ],
 "metadata": {
  "kernelspec": {
   "display_name": "Python 3 (ipykernel)",
   "language": "python",
   "name": "python3"
  },
  "language_info": {
   "codemirror_mode": {
    "name": "ipython",
    "version": 3
   },
   "file_extension": ".py",
   "mimetype": "text/x-python",
   "name": "python",
   "nbconvert_exporter": "python",
   "pygments_lexer": "ipython3",
   "version": "3.8.5"
  }
 },
 "nbformat": 4,
 "nbformat_minor": 5
}
